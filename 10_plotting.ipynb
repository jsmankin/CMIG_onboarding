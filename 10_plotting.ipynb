{
 "cells": [
  {
   "cell_type": "markdown",
   "metadata": {},
   "source": [
    "# **CMIG - Python Tutorials**"
   ]
  },
  {
   "cell_type": "markdown",
   "metadata": {},
   "source": [
    "*The idea of this notebook is for you to read through the text and execute each cell as you go along, filling in commands/blocks of code as necessary. This is intended for people with little to no programming / python experience. If this is review for you, feel free to skim through it.*  "
   ]
  },
  {
   "cell_type": "markdown",
   "metadata": {},
   "source": [
    "# Visualizaton: Matplotlib Basics"
   ]
  },
  {
   "cell_type": "markdown",
   "metadata": {},
   "source": [
    "OUTLINE:\n",
    "- Matplotlib Intro\n",
    "- Figures and Axes\n",
    "- Scatter / Line Plots\n",
    "- Plotting 3-D Data, and Maps\n",
    "- Plots with multiple Axes / Subplots\n",
    "- A (Suggested) Plotting Workflow\n",
    "- Exercises & Further Resources"
   ]
  },
  {
   "cell_type": "markdown",
   "metadata": {},
   "source": [
    "---\n",
    "### Matplotlib Intro\n",
    "---"
   ]
  },
  {
   "cell_type": "markdown",
   "metadata": {},
   "source": [
    "<div>\n",
    "<img src=https://matplotlib.org/stable/_images/sphx_glr_logos2_003.png width=\"400\">\n",
    "<div>\n",
    "    \n",
    "[Matplotlib](https://matplotlib.org/) is \"a comprehensive library for creating static, animated, and interactive visualizations in Python.\" It is what we most commonly use to create plots and visualize data in Python. In particular, we use the `pyplot` module from matplotlib most frequently.\n",
    "\n",
    "There are TONS of options for what you can achieve using Matplotlib, and there is extensive documentation and tutorials online (See Further Resources for a few). \n",
    "\n",
    "So, this tutorial is by no means comprehensive -- the idea is to give you enough knowledge to start making your own plots. If you need more help or detail, don't hesitate to consult the online resources, google, or come to office hours!"
   ]
  },
  {
   "cell_type": "code",
   "execution_count": null,
   "metadata": {},
   "outputs": [],
   "source": [
    "# let's import matplotlib below, as well as numpy and xarray\n",
    "\n",
    "import matplotlib as mpl\n",
    "import matplotlib.pyplot as plt\n",
    "\n",
    "import numpy as np\n",
    "import xarray as xr"
   ]
  },
  {
   "cell_type": "markdown",
   "metadata": {},
   "source": [
    "---\n",
    "### Figures and Axes\n",
    "---"
   ]
  },
  {
   "cell_type": "markdown",
   "metadata": {},
   "source": [
    "Here are the components of a Matplotlib Figure. \n",
    "\n",
    "<div>\n",
    "<img src=https://matplotlib.org/stable/_images/anatomy.png width=\"600\">\n",
    "<div>"
   ]
  },
  {
   "cell_type": "markdown",
   "metadata": {},
   "source": [
    "*Source: matplotlib.org*\n",
    "\n",
    "#### Figure\n",
    "- The ***whole*** figure. The figure keeps track of all the child ***Axes***.\n",
    "\n",
    "#### Axes\n",
    "- ****Axes**** are what you actually plot data on. They are attached to a figure and contain a region for plotting data.\n",
    "    - Axes usually contain 2 ***Axis*** objects (or 3, in the case of a 3D plot). NOTE the difference between Axis and Axes, an Axis is something like an x-axis or y-axis while Axes are the region where data is plotted."
   ]
  },
  {
   "cell_type": "markdown",
   "metadata": {},
   "source": [
    "Let's create a blank figure below."
   ]
  },
  {
   "cell_type": "code",
   "execution_count": null,
   "metadata": {},
   "outputs": [],
   "source": [
    "fig = plt.figure() # an empty figure with no Axes. What gets displayed below?"
   ]
  },
  {
   "cell_type": "markdown",
   "metadata": {},
   "source": [
    "Now, let's try to add an axes. The `plt.subplots()` method returns a figure and axes object. "
   ]
  },
  {
   "cell_type": "code",
   "execution_count": null,
   "metadata": {},
   "outputs": [],
   "source": [
    "fig, ax = plt.subplots() # a figure with a single (blank) Axes"
   ]
  },
  {
   "cell_type": "markdown",
   "metadata": {},
   "source": [
    "The `plt.subplots()` method can also make multiple subplots. More on this later."
   ]
  },
  {
   "cell_type": "code",
   "execution_count": null,
   "metadata": {},
   "outputs": [],
   "source": [
    "fig, axs = plt.subplots(2, 2)  # a figure with a 2x2 grid of Axes"
   ]
  },
  {
   "cell_type": "markdown",
   "metadata": {},
   "source": [
    "Axes objects have many methods you can use, for example, setting x labels, y labels, and titles."
   ]
  },
  {
   "cell_type": "code",
   "execution_count": null,
   "metadata": {},
   "outputs": [],
   "source": [
    "fig, ax = plt.subplots() # a figure with a single (blank) Axes\n",
    "\n",
    "ax.set(xlabel='X', ylabel='Y', title='TITLE') # set labels and title"
   ]
  },
  {
   "cell_type": "markdown",
   "metadata": {},
   "source": [
    "It is often convenient to create the Axes together with the Figure, but you can also manually add Axes later on."
   ]
  },
  {
   "cell_type": "markdown",
   "metadata": {},
   "source": [
    "---\n",
    "### Scatter / Line Plots\n",
    "---"
   ]
  },
  {
   "cell_type": "markdown",
   "metadata": {},
   "source": [
    "#### Plotting Simple Data\n",
    "\n",
    "Matplotlib plotting functions expect `numpy.array` as input, or objects that can be passed to `numpy.asarray` (e.g. lists). Xarray objects are typically pretty easy to plot as well, and as you may have seen in the xarray tutorial, xarray has built-in matplotlib plotting methods. \n",
    "\n",
    "The most basic way to plot data is using the command `plt.plot()`. The main arguments to this function are your x data and y data (IN THAT ORDER!)"
   ]
  },
  {
   "cell_type": "code",
   "execution_count": null,
   "metadata": {},
   "outputs": [],
   "source": [
    "# gen x data\n",
    "x_data = np.array(range(-10, 11))\n",
    "\n",
    "# gen y data\n",
    "y_data = x_data**2"
   ]
  },
  {
   "cell_type": "code",
   "execution_count": null,
   "metadata": {},
   "outputs": [],
   "source": [
    "# plt.plot example:\n",
    "\n",
    "# line plot using plt.plot()\n",
    "plt.plot(x_data, y_data)"
   ]
  },
  {
   "cell_type": "markdown",
   "metadata": {},
   "source": [
    "Maybe you wanted to make a scatter plot rather than a line plot:"
   ]
  },
  {
   "cell_type": "code",
   "execution_count": null,
   "metadata": {},
   "outputs": [],
   "source": [
    "plt.scatter(x_data, y_data)"
   ]
  },
  {
   "cell_type": "markdown",
   "metadata": {},
   "source": [
    "Let's change the face color and marker shape of these scatters by using additional arguments to the 'scatter()' function.\n",
    "\n",
    "For a full list of additional arguments, run `plt.scatter?` in your notebook (or google plt.scatter)."
   ]
  },
  {
   "cell_type": "code",
   "execution_count": null,
   "metadata": {},
   "outputs": [],
   "source": [
    "plt.scatter(x_data, y_data, marker='*', facecolor='red')"
   ]
  },
  {
   "cell_type": "markdown",
   "metadata": {},
   "source": [
    "However, using these `plt.plot()`-style functions can get a bit clunky, especially when you want to draw multiple lines on the same axes. Instead, we can create an axes object using the `plt.subplots()` function, and plot directly on those axes using `ax.plot()` (this is object-oriented programming). "
   ]
  },
  {
   "cell_type": "code",
   "execution_count": null,
   "metadata": {},
   "outputs": [],
   "source": [
    "# set up axes\n",
    "fig, ax = plt.subplots() # note: you could call your axes anything, it's just common to label them ax\n",
    "\n",
    "# plot data onto axes\n",
    "ax.plot(x_data, y_data)"
   ]
  },
  {
   "cell_type": "markdown",
   "metadata": {},
   "source": [
    "Now let's add multiple lines on the same axes."
   ]
  },
  {
   "cell_type": "code",
   "execution_count": null,
   "metadata": {},
   "outputs": [],
   "source": [
    "# gen other y data\n",
    "y_data_2 = 8*x_data + 4\n",
    "\n",
    "\n",
    "# set up axes\n",
    "fig, ax = plt.subplots() \n",
    "\n",
    "# plot initial data onto axes\n",
    "ax.plot(x_data, y_data, label='y=x^2') # note the 'label' argument now\n",
    " \n",
    "# plot other y data onto axes\n",
    "ax.plot(x_data, y_data_2, label='y = 8x+4')\n",
    "\n",
    "# use a legend to distinguish the 2 lines -- legend uses the labels we set in the plotting commands\n",
    "ax.legend()\n",
    "\n",
    "# set labels and title\n",
    "ax.set(xlabel='X', ylabel='Y', title='Plotting Multiple Lines on the Same Axes')"
   ]
  },
  {
   "cell_type": "markdown",
   "metadata": {},
   "source": [
    "You can also adjust the axis limits of your axes, x and y ticks, tick labels, etc. "
   ]
  },
  {
   "cell_type": "markdown",
   "metadata": {},
   "source": [
    "---\n",
    "### Plotting 3-D Data and Maps\n",
    "---"
   ]
  },
  {
   "cell_type": "markdown",
   "metadata": {},
   "source": [
    "#### Color mapped data"
   ]
  },
  {
   "cell_type": "markdown",
   "metadata": {},
   "source": [
    "Our scatter and line plots are mainly useful when we have just 2 dimensions to our data, some independent variable and some dependent variable.\n",
    "\n",
    "Often we want to have a third dimension in a plot represented by a colors in a colormap. This is particularly common with climate data. For example, we could have data that has lat and lon coordinates and values for temp. Matplotlib has a number of plot types that do this, such as `pcolormesh()`, `contourf()`, and `imshow()`."
   ]
  },
  {
   "cell_type": "code",
   "execution_count": null,
   "metadata": {},
   "outputs": [],
   "source": [
    "# making some numpy data (array is 2-D, the values become the colors aka the 'third' dimension of the data)\n",
    "x = np.linspace(-2*np.pi, 2*np.pi, 100)\n",
    "y = np.linspace(-np.pi, np.pi, 50)\n",
    "xx, yy = np.meshgrid(x, y)\n",
    "f = np.sin(xx) * np.cos(0.5*yy)"
   ]
  },
  {
   "cell_type": "code",
   "execution_count": null,
   "metadata": {},
   "outputs": [],
   "source": [
    "# pcolormesh\n",
    "fig, ax = plt.subplots()\n",
    "ax.pcolormesh(f)\n",
    "ax.set(title='pcolormesh()')"
   ]
  },
  {
   "cell_type": "code",
   "execution_count": null,
   "metadata": {},
   "outputs": [],
   "source": [
    "# contourf -- this means contour filled. So it makes discrete contours and fills them with color\n",
    "# (you can obviously specify the color, colormaps, etc.)\n",
    "fig, ax = plt.subplots()\n",
    "ax.contourf(f)\n",
    "ax.set(title='contourf()')"
   ]
  },
  {
   "cell_type": "code",
   "execution_count": null,
   "metadata": {},
   "outputs": [],
   "source": [
    "# imshow\n",
    "fig, ax = plt.subplots()\n",
    "ax.imshow(f)\n",
    "ax.set(title='imshow()')"
   ]
  },
  {
   "cell_type": "markdown",
   "metadata": {},
   "source": [
    "#### Plotting Climate Data with Xarray"
   ]
  },
  {
   "cell_type": "markdown",
   "metadata": {},
   "source": [
    "This is helpful and all, but we might be most interested in plotting data from climate models using Xarray. \n",
    "\n",
    "Let's open some of the CESM2-WACCM output from the Xarray tutorial and try plotting that:"
   ]
  },
  {
   "cell_type": "code",
   "execution_count": null,
   "metadata": {},
   "outputs": [],
   "source": [
    "ds = xr.open_dataset('/home/jovyan/shared/GEOG60/pythontutorials/tutorialdata/pr_Amon_CESM2-WACCM-FV2_historical_r1i1p1f1_gn_200001-201412.nc')\n",
    "ds"
   ]
  },
  {
   "cell_type": "markdown",
   "metadata": {},
   "source": [
    "To plot data from an `xr.DataArray`, we can use the built-in `.plot()` method. In order to put this on a specific axes, we want to provide the axes object as an argument to that `.plot()` function."
   ]
  },
  {
   "cell_type": "code",
   "execution_count": null,
   "metadata": {},
   "outputs": [],
   "source": [
    "# make figure with 1 empty axes, specifying figure size here as well\n",
    "fig, ax = plt.subplots(figsize=(12,6))\n",
    "\n",
    "# select precip data for 1/15/2000, plot it on that ax\n",
    "ds.pr.sel(time='2000-01-15').plot(ax=ax)\n",
    "\n",
    "# give it a title\n",
    "ax.set(title='Plotting Xarray Data!')"
   ]
  },
  {
   "cell_type": "markdown",
   "metadata": {},
   "source": [
    "Note how Xarray automatically populates x- and y-axis ticks and labels, as well as a color bar and colorbar labels. You can set all of those manually, but for now let's just look at the color bar. \n",
    "\n",
    "Matplotlib has a wide variety of color maps which you can [view online](https://matplotlib.org/stable/tutorials/colors/colormaps.html), and there are various ways to specify color bars. The simplest way is within the `DataArray.plot()` function.\n",
    "\n",
    "Let's plot the same data as above, but using a differnent colormap (I'll use blue because the data is precip) and I'll make the colormap a ***discrete*** one by specifying the number of color levels."
   ]
  },
  {
   "cell_type": "code",
   "execution_count": null,
   "metadata": {},
   "outputs": [],
   "source": [
    "fig, ax = plt.subplots(figsize=(12,6))\n",
    "\n",
    "# note the new arguments to this plot() function\n",
    "ds.pr.sel(time='2000-01-15').plot(ax=ax, cmap='Blues', levels=11)\n",
    "\n",
    "# give it a title\n",
    "ax.set(title='Plotting Xarray Data - Adjusting Color Map')"
   ]
  },
  {
   "cell_type": "markdown",
   "metadata": {},
   "source": [
    "*Note: you could also use contourf() to plot this data, if you prefer the way those types of plots look. Contour plots tend to require a bit more work and fiddling, though...*"
   ]
  },
  {
   "cell_type": "markdown",
   "metadata": {},
   "source": [
    "#### Adding Maps to our Plots"
   ]
  },
  {
   "cell_type": "markdown",
   "metadata": {},
   "source": [
    "The plot above may look nice, but it's pretty hard to tell where this data falls relative to the globe unless you've got a really good sense of your lat and lon coordinates. Luckily, the `cartopy` library allows us to plot data on maps using a [variety of different map projections.](https://scitools.org.uk/cartopy/docs/v0.15/crs/projections.html) \n",
    "\n",
    "When plotting data onto a map, we need to know 2 things:\n",
    "1. The projection our data is in currently (you will most likely be working with climate data on a rectilinear lat/lon grid -- so `ccrs.PlateCarree()`\n",
    "2. The projection that you want to plot in.\n",
    "\n",
    "Let's try that below. "
   ]
  },
  {
   "cell_type": "code",
   "execution_count": null,
   "metadata": {},
   "outputs": [],
   "source": [
    "# import what we want from cartopy\n",
    "import cartopy as cart\n",
    "import cartopy.crs as ccrs\n",
    "import cartopy.feature as cf"
   ]
  },
  {
   "cell_type": "code",
   "execution_count": null,
   "metadata": {},
   "outputs": [],
   "source": [
    "# make a figure with an empty axes in ROBINSON projection --> need to say subplot_kw={'projection': your_projection_here }\n",
    "fig, ax = plt.subplots(figsize=(12,6), subplot_kw={'projection':ccrs.Robinson()}) \n",
    "\n",
    "# plot the data -- note that we need to specify the projection or data is currently in using the transform argument\n",
    "ds.pr.sel(time='2000-01-15').plot(ax=ax, cmap='Blues', levels=11, transform=ccrs.PlateCarree())\n",
    "\n",
    "# add coastlines over the data!\n",
    "ax.coastlines()\n",
    "\n",
    "# give it a title\n",
    "ax.set(title='Plotting Xarray Data - Adding Map Projection and Coastlines!')"
   ]
  },
  {
   "cell_type": "markdown",
   "metadata": {},
   "source": [
    "Cartopy will allow us to add tons of cosmetic detail and features to our plots. We can also plot in various map projections, adjust the central focus of the plot, the lat/lon extents, add rivers, borders, lakes, etc.\n",
    "\n",
    "For example, try the following chunks of code to see what you get. "
   ]
  },
  {
   "cell_type": "code",
   "execution_count": null,
   "metadata": {},
   "outputs": [],
   "source": [
    "# PlateCarree() this time (normal lat/lon)\n",
    "fig, ax = plt.subplots(figsize=(12,6), subplot_kw={'projection':ccrs.PlateCarree()}) \n",
    "\n",
    "# plot the data -- note that we need to specify the projection or data is currently in using the transform argument\n",
    "ds.pr.sel(time='2000-01-15').plot(ax=ax, cmap='Blues', levels=11, transform=ccrs.PlateCarree())\n",
    "\n",
    "# add coastlines over the data\n",
    "ax.coastlines()\n",
    "\n",
    "# add country borders\n",
    "ax.add_feature(cf.BORDERS)\n",
    "\n",
    "# give it a title\n",
    "ax.set(title='Plotting Xarray Data - PlateCarree and borders')"
   ]
  },
  {
   "cell_type": "code",
   "execution_count": null,
   "metadata": {},
   "outputs": [],
   "source": [
    "# could change the focus by adjusting the central longitude and latitude arguments\n",
    "fig, ax = plt.subplots(figsize=(12,6), subplot_kw={'projection':ccrs.Orthographic(central_longitude=25, central_latitude=0.0, globe=None)}) \n",
    "\n",
    "# plot the data -- note that we need to specify the projection or data is currently in using the transform argument\n",
    "ds.pr.sel(time='2000-01-15').plot(ax=ax, cmap='Blues', levels=11, transform=ccrs.PlateCarree())\n",
    "\n",
    "# color all the ocean grey - why not\n",
    "ax.add_feature(cf.OCEAN, facecolor='lightslategrey', zorder=1)\n",
    "\n",
    "# add coastlines over the data\n",
    "ax.coastlines(zorder=2)\n",
    "\n",
    "# add country borders\n",
    "ax.add_feature(cf.BORDERS, zorder=3)\n",
    "\n",
    "# give it a title\n",
    "ax.set(title='Plotting Xarray Data - Orthographic focusing on Africa')"
   ]
  },
  {
   "cell_type": "markdown",
   "metadata": {},
   "source": [
    "*Note: Once you start adding lots of features on top of your plot, you may want to use the `zorder` argument to control the ordering of the layers. Higher numbers mean that layer will appear closer to the top.* "
   ]
  },
  {
   "cell_type": "markdown",
   "metadata": {},
   "source": [
    "---\n",
    "### Plots With Multiple Axes / Subplots\n",
    "---"
   ]
  },
  {
   "cell_type": "markdown",
   "metadata": {},
   "source": [
    "As mentioned earlier, you can put mutiple Axes or Subplots on the same figure. \n",
    "\n",
    "Note that when you make many subplots, you now access each individual axes using list / numpy indexing methods. "
   ]
  },
  {
   "cell_type": "code",
   "execution_count": null,
   "metadata": {},
   "outputs": [],
   "source": [
    "fig, ax = plt.subplots(3, 2, figsize=(8,8))  # a figure with a 2x3 grid of Axes\n",
    "\n",
    "# set titles for all of them so you can see how to address each axes ([row, column] just like arrays or lists)\n",
    "ax[0,0].set(title='ax[0,0]')\n",
    "ax[0,1].set(title='ax[0,1]')\n",
    "ax[1,0].set(title='ax[1,0]')\n",
    "ax[1,1].set(title='ax[1,1]')\n",
    "ax[2,0].set(title='ax[2,0]')\n",
    "ax[2,1].set(title='ax[2,1]')\n",
    "\n",
    "# just setting this so the titles don't overlap other axes\n",
    "fig.tight_layout()"
   ]
  },
  {
   "cell_type": "markdown",
   "metadata": {},
   "source": [
    "You can take advantage of these subplots and axes numbering system if you'd like to plot multiple maps. This lends itself nicely to forloops as well. \n",
    "\n",
    "For example, consider this (advanced) application where we use `plt.subplots()`, a forloop, and our xarray dataset to plot precip data for every month of 2012."
   ]
  },
  {
   "cell_type": "code",
   "execution_count": null,
   "metadata": {},
   "outputs": [],
   "source": [
    "# NOTE: This Code may take ~1-2 minutes to run. \n",
    "\n",
    "# select 2012 data to plot\n",
    "data_toplot2012 = ds.pr.sel(time=slice('2012-01-01', '2012-12-31')) # note the xarray slicing notation!\n",
    "\n",
    "# make a figure with 12 empty axes in ROBINSON projection\n",
    "nrows = 4\n",
    "ncols = 3\n",
    "fig, ax = plt.subplots(nrows, ncols, figsize=(16,12), subplot_kw={'projection':ccrs.Robinson()}) \n",
    "\n",
    "# plot counter var\n",
    "pltcntr = 0\n",
    "\n",
    "# loop through each row, col\n",
    "for r in range(nrows):\n",
    "    for c in range(ncols):\n",
    "                \n",
    "        # select data for the appropriate timestep\n",
    "        timestep = data_toplot2012.time.values[pltcntr]\n",
    "        da_sel = data_toplot2012.sel(time=timestep)\n",
    "        \n",
    "        # plot data onto the axes\n",
    "        # also using the vmin and vmax arguments to set the min and max values for the colorbar\n",
    "        h = da_sel.plot(ax=ax[r, c], cmap='Blues', vmin=0, vmax=0.0004, levels=11, transform=ccrs.PlateCarree(), add_colorbar=False)\n",
    "            # here we are both executing a plot command and saving the result in some var 'h', this is so I can grab the colormap\n",
    "            # info for later and put a nice big colorbar at the bottom. \n",
    "    \n",
    "        # coastlines\n",
    "        ax[r, c].coastlines()\n",
    "        \n",
    "        # title\n",
    "        ax[r, c].set(title=timestep)\n",
    "        \n",
    "        # update plot counter (this steps through time in the dataset)\n",
    "        pltcntr = pltcntr+1\n",
    "        \n",
    "# overall plot title\n",
    "plt.suptitle('2012 CESM2-WACCM MODELED PRECIP')\n",
    "\n",
    "sm = plt.cm.ScalarMappable(norm=h.norm, cmap=h.cmap)\n",
    "sm.set_array([])\n",
    "\n",
    "cbar = fig.colorbar(sm, \n",
    "                    ax=ax, \n",
    "                    orientation=\"horizontal\",\n",
    "                    pad=0.03, \n",
    "                    use_gridspec=True,\n",
    "                    fraction=0.03, \n",
    "                    label='Precip [kg m-2 s-1]',\n",
    "                    aspect=25)"
   ]
  },
  {
   "cell_type": "markdown",
   "metadata": {},
   "source": [
    "---\n",
    "### A (Suggested) Plotting Workflow\n",
    "---"
   ]
  },
  {
   "cell_type": "markdown",
   "metadata": {},
   "source": [
    "Here is a suggested plotting workflow. Note this is totally subjective.\n",
    "\n",
    "BEFORE YOU PLOT (in separate cells):\n",
    "- Prepare your data and perform any analysis necessary\n",
    "\n",
    "PLOT:\n",
    "- Set up figure, axes, and any subplots / projections\n",
    "- Plot your data onto axes using `ax.plot()`, `dataArray.plot()`, or any of the other number of plotting commands.\n",
    "    - put specific plot arguments such as labels in the plot function arguments\n",
    "- Edit cosmetics:\n",
    "    - map features\n",
    "    - titles\n",
    "    - axis labels\n",
    "    - axis ticks, add your own colorbar, legend if necessary\n",
    "- SAVE figure using the command `plt.savefig()` and provide a name for your file e.g. `plt.savefig('my_plot.pdf')`"
   ]
  },
  {
   "cell_type": "markdown",
   "metadata": {},
   "source": [
    "---\n",
    "### Exercises\n",
    "---"
   ]
  },
  {
   "cell_type": "markdown",
   "metadata": {},
   "source": [
    "1. In the corresponding cell below, do a scatter plot of `xdata` and `ydata`, with each point represented with a pink, triangular marker.\n",
    "2. To the original plot, add an x-label (Year), a y-label (GDP [Billions of $]) and a title (USA GDP Plot).\n",
    "3. Now change the plot to a line plot,\n",
    "    - add `ydata2` to the same plot, \n",
    "    - label ydata and ydata2 'USA' and 'Japan' respectively, \n",
    "    - change the title to read 'GDP Plot',\n",
    "    - and add a legend. \n",
    "4. Plot July 2013 precip from `ds_in` on a Mercator projection and add coastlines over the data.\n",
    "    - Challenge: pick a fun colormap, set minimum value = 0, maximum value = 0.0003, and see what happens with the colorbar."
   ]
  },
  {
   "cell_type": "code",
   "execution_count": null,
   "metadata": {},
   "outputs": [],
   "source": [
    "# 1. \n",
    "\n",
    "xdata = [2010, 2011, 2012, 2013, 2014, 2015]\n",
    "ydata = [15048, 15599, 16253, 16843, 17550, 18206]"
   ]
  },
  {
   "cell_type": "code",
   "execution_count": null,
   "metadata": {},
   "outputs": [],
   "source": [
    "# 2. \n"
   ]
  },
  {
   "cell_type": "code",
   "execution_count": null,
   "metadata": {},
   "outputs": [],
   "source": [
    "# 3. \n",
    "\n",
    "ydata2 = [5759, 6233, 6272, 5212, 4896, 4444]"
   ]
  },
  {
   "cell_type": "code",
   "execution_count": null,
   "metadata": {},
   "outputs": [],
   "source": [
    "# 4. \n"
   ]
  },
  {
   "cell_type": "markdown",
   "metadata": {},
   "source": [
    "---\n",
    "### Further Resources\n",
    "---\n",
    "\n",
    "- [Matplotlib Quick Start Guide](https://matplotlib.org/stable/tutorials/introductory/quick_start.html#sphx-glr-tutorials-introductory-quick-start-py)\n",
    "- [Matplotlib Tutorials](https://matplotlib.org/stable/tutorials/index.html)\n",
    "- [Matplotlib Documentation](https://matplotlib.org/stable/index.html)\n",
    "- [Matplotlib Cheatsheets](https://matplotlib.org/cheatsheets/)\n",
    "- [Scientific Visualization: Python + Matplotlib (detailed textbook - Free PDF online)](https://hal.inria.fr/hal-03427242/document)\n",
    "- [Cartopy Projection List](https://scitools.org.uk/cartopy/docs/v0.15/crs/projections.html)"
   ]
  }
 ],
 "metadata": {
  "kernelspec": {
   "display_name": "Python nvas311",
   "language": "python",
   "name": "nvas311"
  },
  "language_info": {
   "codemirror_mode": {
    "name": "ipython",
    "version": 3
   },
   "file_extension": ".py",
   "mimetype": "text/x-python",
   "name": "python",
   "nbconvert_exporter": "python",
   "pygments_lexer": "ipython3",
   "version": "3.8.2"
  }
 },
 "nbformat": 4,
 "nbformat_minor": 2
}
