{
 "cells": [
  {
   "cell_type": "markdown",
   "metadata": {},
   "source": [
    "# **CMIG** Python Basics"
   ]
  },
  {
   "cell_type": "markdown",
   "metadata": {},
   "source": [
    "---\n",
    "## 0. Introduction to JupyterHub and Jupyter Notebooks\n",
    "---"
   ]
  },
  {
   "cell_type": "markdown",
   "metadata": {},
   "source": [
    "<div>\n",
    "<img src=https://docs.servicestack.net/assets/jupyter-python.6188762b.png width=\"250\">\n",
    "<div>"
   ]
  },
  {
   "cell_type": "markdown",
   "metadata": {},
   "source": [
    "### JupyterHub"
   ]
  },
  {
   "cell_type": "markdown",
   "metadata": {},
   "source": [
    "In the Group, we typically use Python to manipulate and analyze climate data. \n",
    "\n",
    "Jupyter allow us to write and execute Python code from our web browsers, using computational and virtual environment support that has been set up on Dartmouth’s [Discovery supercomputing cluster](https://rc.dartmouth.edu/index.php/discovery-overview/).\n",
    "\n",
    "All you need is internet access, the Dartmouth VPN, and the ability to sign in to our group’s Discovery resources and you will be able to run code interactively on the cluster. "
   ]
  },
  {
   "cell_type": "markdown",
   "metadata": {},
   "source": [
    "### JupyterLab"
   ]
  },
  {
   "cell_type": "markdown",
   "metadata": {},
   "source": [
    "JupyterLab is the user interface which allows us to navigate through folders, launch notebooks, text files, terminal windows, and more. Hint: you're reading this sentence written in a Jupyter Notebook hosted on the JupyterLab interface right now."
   ]
  },
  {
   "cell_type": "markdown",
   "metadata": {},
   "source": [
    "### Jupyter Notebooks"
   ]
  },
  {
   "cell_type": "markdown",
   "metadata": {},
   "source": [
    "[Jupyter Notebooks](https://jupyter.org/) are the type of document that you will be most likely/typically using when writing code for this class (save for CESM, which will come later). The Jupyter notebook is an open-source web application that allows you to create documents containing live code, equations, visualizations, and text. \n",
    "\n",
    "Jupyter notebooks are organized into a series of cells.\n",
    "\n",
    "There are three types of cells in Jupyter Notebooks:\n",
    "- Code \n",
    "- Markdown\n",
    "- Raw\n",
    "\n",
    "Let's look at each, below."
   ]
  },
  {
   "cell_type": "markdown",
   "metadata": {},
   "source": [
    "## Code"
   ]
  },
  {
   "cell_type": "markdown",
   "metadata": {},
   "source": [
    "- **Code** cells allow us to write and execute code and view the output directly below. \n",
    "    - You can tell a cell is a code cell because it has `In [ ]:` on the left.\n",
    "    - There is also a dropdown window on the notebook's top bar that will tell you what type of cell you have highlighted. \n",
    "    - **To execute a cell or cells, select the cell and then press shift + enter, or click the \"play\" button on the top bar.**\n",
    "    - To designate a cell as code, click the cell and either select from the dropdown menu above, or simply press y."
   ]
  },
  {
   "cell_type": "code",
   "execution_count": null,
   "metadata": {},
   "outputs": [],
   "source": [
    "# here is an example code cell.\n",
    "print('Hello, World!')"
   ]
  },
  {
   "cell_type": "markdown",
   "metadata": {},
   "source": [
    "*What happened above? Note that in Jupyter Notebooks, a code is executed cell-by-cell and each cell's output is displayed directly below.*\n",
    "\n",
    "*Also, you may have noticed that on the left where it used to say `In [ ]:`, it now says `In [1]:`. This tells us that this code has been executed, and the order (number) in which it was executed in the notebook.*"
   ]
  },
  {
   "cell_type": "markdown",
   "metadata": {},
   "source": [
    "#### Markdown"
   ]
  },
  {
   "cell_type": "markdown",
   "metadata": {},
   "source": [
    "- **Markdown** cells allow us to write easy-to-read plain text, and allows for special formatting as well.\n",
    "    - [Markdown Intro/Tutorial](https://ashki23.github.io/markdown-latex.html) *(have a look at this if/when useful)*\n",
    "    - When a markdown cell is executed, the text and formatting is rendered for the viewer. The jupyter notebook knows not to try to compile the contents of this cell as code. \n",
    "    - To designate a cell as markdown, click the cell and either select from the dropdown menu above, or simply press m. \n",
    "    - There are all sorts of interesting formatting things you can do in Markdown, for example, try executing the cell below:"
   ]
  },
  {
   "cell_type": "markdown",
   "metadata": {},
   "source": [
    "## Big Text\n",
    "\n",
    "###### smaller text\n",
    "\n",
    "#### *Italics* **BOLD**\n",
    "\n",
    "#### equations:    $T_e = \\left(\\frac{\\text{OLR}}{\\sigma} \\right)^{\\frac{1}{4}}$\n",
    "\n",
    "code:\n",
    "```python\n",
    "print('this looks like python code')\n",
    "```\n",
    "\n",
    "`this looks like a code block`"
   ]
  },
  {
   "cell_type": "markdown",
   "metadata": {},
   "source": [
    "### Raw"
   ]
  },
  {
   "cell_type": "markdown",
   "metadata": {},
   "source": [
    "- **Raw** cells contain unformatted text that is not compiled/executed as code or rendered as markdown. \n",
    "    - To designate a cell as raw, click the cell and either select from the dropdown menu above, or simply press r.\n",
    "    - Try executing this 'raw' cell."
   ]
  },
  {
   "cell_type": "raw",
   "metadata": {},
   "source": [
    "This is a raw cell. "
   ]
  },
  {
   "cell_type": "markdown",
   "metadata": {},
   "source": [
    "*Nothing happens.*"
   ]
  },
  {
   "cell_type": "markdown",
   "metadata": {},
   "source": [
    "Lastly, a few Jupyter keyboard shortcuts for future reference:\n",
    "    - b: new cell below\n",
    "    - dd: delete cell(s)\n",
    "    - x: cut cell(s)\n",
    "    - c: copy cell(s)\n",
    "    - v: paste cell(s)\n",
    "    - m: merge selected cells\n",
    "    \n",
    "All these things can also be achieved using tools from the top bar and/pr the \"Edit\" dropdown menu."
   ]
  },
  {
   "cell_type": "markdown",
   "metadata": {},
   "source": [
    "---\n",
    "## 1. Python as a calculator\n",
    "---"
   ]
  },
  {
   "cell_type": "markdown",
   "metadata": {},
   "source": [
    "### Arithmetic Operations"
   ]
  },
  {
   "cell_type": "markdown",
   "metadata": {},
   "source": [
    "We will introduce you to Python by demonstrating features found in any standard graphing calculator. \n",
    "\n",
    "An **arithmetic operation** is either addition, subtraction, multiplication, division, or powers between two numbers. An arithmetic operator is a symbol that Python has reserved to mean one of the aforementioned operations. \n",
    "\n",
    "These symbols are:\n",
    "    + for addition, \n",
    "    - for subtraction, \n",
    "    * for multiplication, \n",
    "    / for division,\n",
    "    and ** for exponentiation.\n",
    "    "
   ]
  },
  {
   "cell_type": "markdown",
   "metadata": {},
   "source": [
    "**TRY IT:** Compute the sum of 1 and 2 in the cell below. "
   ]
  },
  {
   "cell_type": "code",
   "execution_count": null,
   "metadata": {},
   "outputs": [],
   "source": []
  },
  {
   "cell_type": "markdown",
   "metadata": {},
   "source": [
    "Try playing around with this by computing a few of your own expressions below. \n",
    "\n",
    "Note that in Python, extra whitespaces within lines are ignored and that code is **delimited** by line, meaning that each line is treated as its own command. If you ever need to continue a command onto the next line, you can connect them using the backslash (`\\`)."
   ]
  },
  {
   "cell_type": "code",
   "execution_count": null,
   "metadata": {},
   "outputs": [],
   "source": []
  },
  {
   "cell_type": "markdown",
   "metadata": {},
   "source": [
    "### Order of Operations"
   ]
  },
  {
   "cell_type": "markdown",
   "metadata": {},
   "source": [
    "Python uses the same order of operations that you learned in middle school:\n",
    "\n",
    "    Parentheses\n",
    "\n",
    "    Exponents\n",
    "\n",
    "    Multiplication and Division\n",
    "\n",
    "    Addition and Subtraction"
   ]
  },
  {
   "cell_type": "markdown",
   "metadata": {},
   "source": [
    "**TRY IT:** Compute the following expressions:"
   ]
  },
  {
   "cell_type": "markdown",
   "metadata": {},
   "source": [
    "a. $7-24 \\div 8 \\times 9 + 2$"
   ]
  },
  {
   "cell_type": "markdown",
   "metadata": {},
   "source": [
    "b. $(7-24) \\div 8 \\times 9 + 2$"
   ]
  },
  {
   "cell_type": "markdown",
   "metadata": {},
   "source": [
    "c. $(3 \\times 5^2 \\div 15) - (5 - 2^2) $"
   ]
  },
  {
   "cell_type": "markdown",
   "metadata": {},
   "source": [
    "d. $\\frac{3 \\times 4}{(2^2 + 4/2)}$"
   ]
  },
  {
   "cell_type": "code",
   "execution_count": null,
   "metadata": {},
   "outputs": [],
   "source": [
    "# a.\n"
   ]
  },
  {
   "cell_type": "code",
   "execution_count": null,
   "metadata": {},
   "outputs": [],
   "source": [
    "# b.\n"
   ]
  },
  {
   "cell_type": "code",
   "execution_count": null,
   "metadata": {},
   "outputs": [],
   "source": [
    "# c.\n"
   ]
  },
  {
   "cell_type": "code",
   "execution_count": null,
   "metadata": {},
   "outputs": [],
   "source": [
    "# d.\n"
   ]
  },
  {
   "cell_type": "markdown",
   "metadata": {},
   "source": [
    "Python will raise an error if you try to divide by zero:"
   ]
  },
  {
   "cell_type": "code",
   "execution_count": null,
   "metadata": {},
   "outputs": [],
   "source": [
    "1/0"
   ]
  },
  {
   "cell_type": "markdown",
   "metadata": {},
   "source": [
    "*Note the error message that is produced here. Python tells you the reason for the error at the bottom of the message, and also highlights the specific line of code that caused the problem. In this example, the \"problem line\" is obvious, but this feature can be very helpful if you need to debug large chunks of code.*"
   ]
  },
  {
   "cell_type": "markdown",
   "metadata": {},
   "source": [
    "### Math Module"
   ]
  },
  {
   "cell_type": "markdown",
   "metadata": {},
   "source": [
    "Python has many basic arithmetic functions like `sin`, `cos`, `tan`, `asin`, `acos`, `atan`, `exp`, `log`, `log10` and `sqrt` stored in a module called **math**. We can import this module first to get access to these functions."
   ]
  },
  {
   "cell_type": "code",
   "execution_count": null,
   "metadata": {},
   "outputs": [],
   "source": [
    "import math"
   ]
  },
  {
   "cell_type": "markdown",
   "metadata": {},
   "source": [
    "Tip: In Jupyter notebooks, you can have a quick view of what’s in the module by type the `module name + dot + TAB`. Furthermore, if you type the first few letters of the function and press TAB, it could automatically complete the function for you, the so called - TAB completion.\n",
    "\n",
    "Try it below:"
   ]
  },
  {
   "cell_type": "code",
   "execution_count": null,
   "metadata": {},
   "outputs": [],
   "source": [
    "# type \"math.\" and then hit tab in this cell down below.\n"
   ]
  },
  {
   "cell_type": "markdown",
   "metadata": {},
   "source": [
    "The way we use these mathematical functions is `module.function`, the inputs to them are always placed inside of parentheses that are connected to the function name. \n",
    "For example, this is how we could take 5 factorial (5!)"
   ]
  },
  {
   "cell_type": "code",
   "execution_count": null,
   "metadata": {},
   "outputs": [],
   "source": [
    "math.factorial(5)"
   ]
  },
  {
   "cell_type": "markdown",
   "metadata": {},
   "source": [
    "*Note the* `module.function` *structure here, and then how inside the* `factorial()` *function parentheses we supply the argument, 5.*\n",
    "- *if you are not familiar with the term 'arguments', it means the value(s) that we supply to the function.*\n",
    "- *so, the above code is telling python to use the factorial() function from the math module to compute 5 factorial.*"
   ]
  },
  {
   "cell_type": "markdown",
   "metadata": {},
   "source": [
    "For trigonometric functions, it is useful to have the value of 𝜋 available. You can call this value at any time by typing `math.pi` in the code cell. The value of 𝜋 is stored in Python to 16 digits.\n",
    "\n",
    "To get information on a function, you can type it in a cell followed by a question mark and then execute, ex.\n",
    "```python\n",
    "    math.radians?\n",
    "```\n",
    "...or, you can search up the documentation online."
   ]
  },
  {
   "cell_type": "code",
   "execution_count": null,
   "metadata": {},
   "outputs": [],
   "source": [
    "# when you execute this line of code, it will give you information about the function.\n",
    "math.radians?"
   ]
  },
  {
   "cell_type": "markdown",
   "metadata": {},
   "source": [
    "**TRY IT:** Using the math module's built-in functions, compute:"
   ]
  },
  {
   "cell_type": "markdown",
   "metadata": {},
   "source": [
    "a. $\\sqrt{16}$"
   ]
  },
  {
   "cell_type": "code",
   "execution_count": null,
   "metadata": {},
   "outputs": [],
   "source": [
    "# a. \n"
   ]
  },
  {
   "cell_type": "markdown",
   "metadata": {},
   "source": [
    "b. $\\sin{\\frac{\\pi}{2}}$"
   ]
  },
  {
   "cell_type": "code",
   "execution_count": null,
   "metadata": {},
   "outputs": [],
   "source": [
    "# b. \n"
   ]
  },
  {
   "cell_type": "markdown",
   "metadata": {},
   "source": [
    "Python executes functions as you would expect, with the innermost function being executed first."
   ]
  },
  {
   "cell_type": "markdown",
   "metadata": {},
   "source": [
    "### Basic Data Types"
   ]
  },
  {
   "cell_type": "markdown",
   "metadata": {},
   "source": [
    "We just learned how to use Python as a calculator to deal with different data values. In Python, there are a few data types we need to know for numerical values:\n",
    "\n",
    "- **int**: Integers, such as 1, 2, 3, …\n",
    "\n",
    "- **float**: Floating-point numbers, such as 3.2, 6.4, … (in other words, anything with a decimal point)\n",
    "\n",
    "- **complex**: Complex numbers, such as 2 + 5j, 3 + 2j, …\n",
    "\n",
    "You can use the `type()` function to check the data type for different values."
   ]
  },
  {
   "cell_type": "markdown",
   "metadata": {},
   "source": [
    "**TRY IT:** Find the data type for the following values:"
   ]
  },
  {
   "cell_type": "markdown",
   "metadata": {},
   "source": [
    "a. 12"
   ]
  },
  {
   "cell_type": "code",
   "execution_count": null,
   "metadata": {},
   "outputs": [],
   "source": [
    "# a.\n",
    "type(12)"
   ]
  },
  {
   "cell_type": "markdown",
   "metadata": {},
   "source": [
    "b. 12.0"
   ]
  },
  {
   "cell_type": "code",
   "execution_count": null,
   "metadata": {},
   "outputs": [],
   "source": [
    "# b.\n"
   ]
  },
  {
   "cell_type": "markdown",
   "metadata": {},
   "source": [
    "c. 3.14"
   ]
  },
  {
   "cell_type": "code",
   "execution_count": null,
   "metadata": {},
   "outputs": [],
   "source": [
    "# c.\n"
   ]
  },
  {
   "cell_type": "markdown",
   "metadata": {},
   "source": [
    "d. 3/5"
   ]
  },
  {
   "cell_type": "code",
   "execution_count": null,
   "metadata": {},
   "outputs": [],
   "source": [
    "# d.\n"
   ]
  },
  {
   "cell_type": "markdown",
   "metadata": {},
   "source": [
    "e. 6/2"
   ]
  },
  {
   "cell_type": "code",
   "execution_count": null,
   "metadata": {},
   "outputs": [],
   "source": [
    "# e.\n"
   ]
  },
  {
   "cell_type": "markdown",
   "metadata": {},
   "source": [
    "*Note that even when you divide two integers in a way that would result in another integer, you still end up with a float. If you ever need to do integer or floor division, use `//` .*"
   ]
  },
  {
   "cell_type": "markdown",
   "metadata": {},
   "source": [
    "f. 2 + 5j"
   ]
  },
  {
   "cell_type": "code",
   "execution_count": null,
   "metadata": {},
   "outputs": [],
   "source": [
    "# f.\n"
   ]
  },
  {
   "cell_type": "markdown",
   "metadata": {},
   "source": [
    "There are other data types such as boolean and string, but those will be introduced later. (If necessary)"
   ]
  },
  {
   "cell_type": "markdown",
   "metadata": {},
   "source": [
    "---\n",
    "# 2. Variables and Assignment\n",
    "---"
   ]
  },
  {
   "cell_type": "markdown",
   "metadata": {},
   "source": [
    "When programming, it's useful to be able to store information in variables which can be referenced later. A **variable** is a string of characters and numbers associated with a symbol, whether a name or some other value.\n",
    "\n",
    "The **assignment operator**, denoted by the `=` symbol, is the operator we use to assign values to variables in Python.\n",
    "\n",
    "For example, the line `x = 1` assigns the value 1 to the variable with the name \"x\". \n",
    "- *In python, you don't have to initialize any variables before assignment. How convenient!*"
   ]
  },
  {
   "cell_type": "code",
   "execution_count": null,
   "metadata": {},
   "outputs": [],
   "source": [
    "x = 1"
   ]
  },
  {
   "cell_type": "markdown",
   "metadata": {},
   "source": [
    "After executing this line, this number will be stored into this variable. Until the value is changed or the variable deleted, the character x behaves like the value 1."
   ]
  },
  {
   "cell_type": "markdown",
   "metadata": {},
   "source": [
    "You can view a variable's value by printing it to the screen (`print(x)`), or simply executing a cell with that variable in it."
   ]
  },
  {
   "cell_type": "code",
   "execution_count": null,
   "metadata": {},
   "outputs": [],
   "source": [
    "print(x)"
   ]
  },
  {
   "cell_type": "code",
   "execution_count": null,
   "metadata": {},
   "outputs": [],
   "source": [
    "x"
   ]
  },
  {
   "cell_type": "markdown",
   "metadata": {},
   "source": [
    "**TRY IT:** Assign the value 2 to a new variable, y. Multiply y by 4 to show that it behaves like the value 2."
   ]
  },
  {
   "cell_type": "code",
   "execution_count": null,
   "metadata": {},
   "outputs": [],
   "source": []
  },
  {
   "cell_type": "code",
   "execution_count": null,
   "metadata": {},
   "outputs": [],
   "source": []
  },
  {
   "cell_type": "markdown",
   "metadata": {},
   "source": [
    "A variable is more like a container to store the data in the computer’s memory, the name of the variable tells the computer where to find this value in the memory. For now, it is sufficient to know that the notebook has its own memory space to store all the variables in the notebook."
   ]
  },
  {
   "cell_type": "markdown",
   "metadata": {},
   "source": [
    "A variable's value will be updated each time you assign it a new value using the assignment operator. For example, if we wanted to change x's value to 2, we could say `x = 2` (sets value to 2) or `x = x + 1` (adds 1 to the existing value of x, this works because the assignment operator works right-to-left) or `x += 1` (also adds 1 to the existing value of x, just less typing)"
   ]
  },
  {
   "cell_type": "markdown",
   "metadata": {},
   "source": [
    "What will the value of y be after running this code?"
   ]
  },
  {
   "cell_type": "markdown",
   "metadata": {},
   "source": [
    "```python \n",
    "y = 2\n",
    "b = y * 3\n",
    "y = y + b\n",
    "y```"
   ]
  },
  {
   "cell_type": "markdown",
   "metadata": {},
   "source": [
    "Try running it for yourself here:"
   ]
  },
  {
   "cell_type": "code",
   "execution_count": null,
   "metadata": {},
   "outputs": [],
   "source": []
  },
  {
   "cell_type": "markdown",
   "metadata": {},
   "source": [
    "Now, what would y's value be after this?\n",
    "\n",
    "```python\n",
    "x = 1\n",
    "y = x + 1\n",
    "x = 2\n",
    "y ```"
   ]
  },
  {
   "cell_type": "code",
   "execution_count": null,
   "metadata": {},
   "outputs": [],
   "source": []
  },
  {
   "cell_type": "markdown",
   "metadata": {},
   "source": [
    "**A few notes on naming variables:**\n",
    "- Python variable names can only include alphanumeric characters (letters and numbers) and underscores.\n",
    "    - spaces are not permitted within variable names\n",
    "    - variable names are case-sensitive, meaning X and x would be considered different variables\n",
    "    - variable names may not start with a number\n",
    "    - **WARNING!** You can overwrite variables or functions that have been stored in Python. For example, the command help = 2 will store the value 2 in the variable with name help. After this assignment help will behave like the value 2 instead of the built-in function `help()`. Therefore, you should always **be careful not to give your variables the same name as built-in functions or values.**\n",
    "\n",
    "Now that you know how to assign variables, it is important that you learn to never leave unassigned commands. An unassigned command is an operation that has a result, but that result is not assigned to a variable. For example, you should never use `2 + 2`. You should instead assign it to some variable `x = 2 + 2`. This allows you to “hold on” to the results of previous commands and will make your interaction with Python must less confusing.\n"
   ]
  },
  {
   "cell_type": "markdown",
   "metadata": {},
   "source": [
    "**Final note: Comments**\n",
    "- it is incredibly highly recommended that you include comments in your code so that you and others can tell what you are doing.\n",
    "    - to make a comment, start a line of code with the # symbol, and write whatever you need after it. \n",
    "    ```python\n",
    "        # this is what a comment looks like.```\n",
    "    - to comment out multiple lines at once, highlight the lines and press `command` plus `/` . "
   ]
  },
  {
   "cell_type": "markdown",
   "metadata": {},
   "source": [
    "If you still have time, try some of these practice problems, check out [this tutorial](https://pythonnumericalmethods.berkeley.edu/notebooks/chapter01.05-Logial-Expressions-and-Operators.html), or continue to play around and familiarize yourself with this coding environment in the cells below. "
   ]
  },
  {
   "cell_type": "markdown",
   "metadata": {},
   "source": [
    "a. Compute the area of a triangle with base 18 and height 12. Recall that the area of a triangle is half the base times the height."
   ]
  },
  {
   "cell_type": "code",
   "execution_count": null,
   "metadata": {},
   "outputs": [],
   "source": []
  },
  {
   "cell_type": "markdown",
   "metadata": {},
   "source": [
    "b. Compute the slope between the points (3,4) and (5,9). Recall that the slope between points $(x_1, y_1)$ and $(x_2, y_2)$ is $\\frac{y_2-y_1}{x_2-x_1}$. Store the value in a variable named `beta`."
   ]
  },
  {
   "cell_type": "code",
   "execution_count": null,
   "metadata": {},
   "outputs": [],
   "source": []
  },
  {
   "cell_type": "markdown",
   "metadata": {},
   "source": [
    "c. Write a line of code that generates the following error:\n",
    "```python\n",
    "    NameError: name 'foo' is not defined\n",
    "\n",
    "    ```"
   ]
  },
  {
   "cell_type": "code",
   "execution_count": null,
   "metadata": {},
   "outputs": [],
   "source": []
  },
  {
   "cell_type": "markdown",
   "metadata": {},
   "source": [
    "d. Represent the equation $\\text{OLR} = \\tau \\sigma T_s^4 $ using separate variables `OLR`, `tau` ($\\tau$), `sigma` ($\\sigma$), and `Ts` ($T_s$). \n",
    " - Set `tau` equal to $0.611$\n",
    " - Set `sigma` equal to $5.67 \\times 10^{-8} W m^{-2} K^{-4}$\n",
    " - Set `T` equal to $288 K$"
   ]
  },
  {
   "cell_type": "code",
   "execution_count": null,
   "metadata": {},
   "outputs": [],
   "source": []
  },
  {
   "cell_type": "markdown",
   "metadata": {},
   "source": [
    "e. What happens to `OLR` if you increase `T` to 295? Can you find the answer by only writing 2 more lines of code?"
   ]
  },
  {
   "cell_type": "code",
   "execution_count": null,
   "metadata": {},
   "outputs": [],
   "source": []
  },
  {
   "cell_type": "markdown",
   "metadata": {},
   "source": [
    "---\n",
    "## 3. Applications\n",
    "---"
   ]
  },
  {
   "cell_type": "markdown",
   "metadata": {},
   "source": [
    "Now that we have a basic understanding of arithmetic operations and variables in Python, we can use it to write and evaluate equations that represent earth system processes. "
   ]
  },
  {
   "cell_type": "markdown",
   "metadata": {},
   "source": [
    "### Bathtub example"
   ]
  },
  {
   "cell_type": "markdown",
   "metadata": {},
   "source": [
    "As an introductory exercise to representing a dynamic system, let's consider a stylized bathtub. \n",
    "\n",
    "We can define the boundaries of our system, consider the fluxes and states, draw a conceptual model (we did this in class on Weds.), define the best way to model the system, formalize it, write some code, perform a model application...gain some insights, and then improve our model!"
   ]
  },
  {
   "cell_type": "markdown",
   "metadata": {},
   "source": [
    "1. The bathtub has the following attributes:\n",
    "    - Source: ***Flow In*** is called **$FI$**\n",
    "    - Sink: ***Flow Out*** is called **$FO$**\n",
    "    - Reservoir (state): ***Water Level*** is called **$WL$**\n",
    "  \n",
    "    >Assume mass fluxes are measured in $m^3 s^-1$, and reservoir height is in $m$. \n",
    "        \n",
    "    >Also assume base of tub is 1.0 $m^2$, so that water level in $m$ is same as the number of $m^3$ volume in tub. This is a simplifying assumption to reduce model complexity.\n",
    "    \n",
    "    >What are the dimensions of the quantities?\n",
    "    \n",
    "2. Consider the fluxes and states:\n",
    "   \n",
    "   a. Flow in, $FI$, has units of $m^3 s^{-1}$, and is constant in time.\n",
    "    >Does this make $FI$ a variable or a parameter?\n",
    "\n",
    "   b. Flow out, $FO$, also has units $m^3 s^{-1}$, but varies as some function of water level $f(WL)$. Thus the sink in this system dynammically responds to the reservoir itself, which, in turn, affects the water level (dare I say, a feedback?).\n",
    "      >Does this make $FO$ a variable or a parameter?\n",
    "   \n",
    "   c. Let's assume the reservoir starts out empty. Thus the initial conditions of our system is $WL_0 \\equiv WL(t=0)$. The subscript notation here defines the variable in time $X_t$:\n",
    "     >What does this imply about $FO_0$?\n",
    "     \n",
    "3. Let's consider the dynamics. The $WL$ at time $t$, $WL_t$, is defined by:\n",
    "$$WL_t = (FI_{t-1} - FO_{t-1}) + WL_{t-1}$$\n",
    "     >In words, this says that the water level at time $t$ is defined as the previous time step's water level plus the difference between what comes in and what goes out.>\n",
    "\n",
    "4. Define the equilibrium state. \n",
    "    >What would this mean? \n",
    "    \n",
    "5. We can define $FO_t$ in disequilibria as a logistic function of gravity, $g$, (which pulls the water out of the tub) and the water level at the previous time step, $WL_{t-1}$ : \n",
    "    \n",
    "    $$FO_t = A \\cdot \\sqrt{gWL_{t-1}}$$\n",
    "    \n",
    "    >Where A is the area of the drain in $m^2$. Let's assume it is 0.1 $m^2$. There's a lot in here and we can unpack on the board if you want.\n",
    "\n",
    "5. Can we identify the steady state (equilibrium) water level, $WL_{eq}$?\n",
    "    \n",
    "6. At what time, $t_{eq}$, do we reach equilibrium?"
   ]
  },
  {
   "cell_type": "markdown",
   "metadata": {},
   "source": [
    "**Analytical Solution:**\n",
    "\n",
    "From a conservation of mass standpoint, equilibrium means what enters the system is balanced by what leaves it: $IN = OUT$. In our system, it means $FI_t$ = $FO_t$,right?\n",
    "\n",
    " - Equilibrium also implies that there is no time variation in $WL$, meaning there is a time, $t_eq$, beyond which the $WL$ is in a steady state.\n",
    "\n",
    "*So the strategy to solve this problem is to set $FI = FO$ and solve for $WL$, meaning we have 2 knowns and 1 unknown.*\n",
    "\n",
    "$FI = FO = A \\cdot \\sqrt{gWL_{t-1}}$\n",
    "\n",
    "Do some algebra!\n",
    "\n",
    "$WL = (\\frac{FI}{A})^2  \\cdot \\frac{1}{g} $"
   ]
  },
  {
   "cell_type": "markdown",
   "metadata": {},
   "source": [
    "**TRY IT:** Compute $WL$ at equilibrium, given that $FI$ = 2 $m^3s^{-1}$, and $g$ = 9.81 $ms^{-2}$, and A = 0.1 $m^2$"
   ]
  },
  {
   "cell_type": "code",
   "execution_count": null,
   "metadata": {},
   "outputs": [],
   "source": []
  },
  {
   "cell_type": "markdown",
   "metadata": {},
   "source": [
    "____________\n",
    "### Numerical Solution and Graphical Representation, Part 1\n",
    "____________"
   ]
  },
  {
   "cell_type": "markdown",
   "metadata": {},
   "source": [
    "Now, we will produce a graphical representation of this tub system by solving for the water level at each timestep. (Numerical representation of the differential equation below). "
   ]
  },
  {
   "cell_type": "markdown",
   "metadata": {},
   "source": [
    "$\\frac{dWL}{dt} = (FI - FO) = FI - A \\cdot \\sqrt{gWL}$"
   ]
  },
  {
   "cell_type": "markdown",
   "metadata": {},
   "source": [
    "#### Representing time derivatives on a computer"
   ]
  },
  {
   "cell_type": "markdown",
   "metadata": {},
   "source": [
    "Recall that the derivative is the **instantaneous rate of change**. It is defined as\n",
    "\n",
    "$$\\frac{dX}{dt} = \\lim_{\\Delta t\\rightarrow 0}⁡ \\frac{\\Delta X}{\\Delta t}$$\n",
    "\n",
    "- **On the computer there is no such thing as an instantaneous change.** \n",
    "- We are always dealing with *discrete quantities*.\n",
    "- So we approximate the derivative with $\\Delta X/ \\Delta t$. \n",
    "- So long as we take the time interval $\\Delta t$ \"small enough,\" the approximation is valid and useful.\n",
    "- (The meaning of \"small enough\" varies widely in practice. Let's not talk about it now)\n"
   ]
  },
  {
   "cell_type": "markdown",
   "metadata": {},
   "source": [
    "So, we can write our model mathematically as:\n",
    "\n",
    "$$ \\frac{dWL}{dt} \\approx FI - FO $$\n",
    "\n",
    "where $dWL$ is instantaneous **change in water level**. \n",
    "\n",
    "But a computer needs to discretize time (otherwise it would simulate forever! Recall higher and lower infinities!). So we can't predict $dWL$ continuously. Instead we need to have the computer code step forward at a reasonable time step. \n",
    "\n",
    "So over a short time interval $\\Delta t$, instead of $dt$."
   ]
  },
  {
   "cell_type": "markdown",
   "metadata": {},
   "source": [
    "We can now use this to **make a prediction**: \n",
    "\n",
    "Given a current water level $WL_1$ at time $t_1$, what is the water level, $WL_2$, at a future time $t_2$?\n",
    "\n",
    "Well, its the finite difference between."
   ]
  },
  {
   "cell_type": "markdown",
   "metadata": {},
   "source": [
    "We can write\n",
    "\n",
    "$$ \\Delta WL = WL_2-WL_1 $$\n",
    "$$ \\Delta t = t_2-t_1 $$\n",
    "\n",
    "and so our model says we can rewrite $\\frac{dWL}{dt}$, which is equal to $FI - FO$ as:\n",
    "\n",
    "$$ \\frac{\\Delta WL}{\\Delta t} = \\text{FI} - \\text{FO} = \\frac{WL_2-WL_1}{\\Delta t} $$\n",
    "\n",
    "We want to find the future water level, $WL_2$, so let's rearrange to **solve for that**:\n",
    "\n",
    "$$ WL_2 = WL_1 + \\Delta{t} \\left( \\text{FI} - \\text{FO} \\right)  $$\n",
    "\n",
    "We now have a formula with which to make our prediction! (Recall that $FO$ is a function of water level at the current time step, $FO(WL_1)$, which is what makes this a differential equation."
   ]
  },
  {
   "cell_type": "markdown",
   "metadata": {},
   "source": [
    "### Numerical Solution of the Bathtub model"
   ]
  },
  {
   "cell_type": "markdown",
   "metadata": {},
   "source": [
    "The quantity $\\Delta t$ is called a **timestep**. It is the smallest time interval represented in our model.\n",
    "\n",
    "Here we're going to use a timestep of 1 second:"
   ]
  },
  {
   "cell_type": "code",
   "execution_count": null,
   "metadata": {},
   "outputs": [],
   "source": [
    "import math\n",
    "import numpy as np\n",
    "import matplotlib.pyplot as plt"
   ]
  },
  {
   "cell_type": "code",
   "execution_count": null,
   "metadata": {},
   "outputs": [],
   "source": [
    "dt = 1 # in seconds\n",
    "FI = 2\n",
    "A = 0.1\n",
    "g = 9.8"
   ]
  },
  {
   "cell_type": "markdown",
   "metadata": {},
   "source": [
    "### Try stepping forward one timestep"
   ]
  },
  {
   "cell_type": "code",
   "execution_count": null,
   "metadata": {
    "slideshow": {
     "slide_type": "slide"
    }
   },
   "outputs": [],
   "source": [
    "# Try a single timestep\n",
    "WL_1 = 0.1\n",
    "WL_2 = WL_1 + (dt * (FI - A*math.sqrt(g * WL_1)))\n",
    "print(WL_2)"
   ]
  },
  {
   "cell_type": "markdown",
   "metadata": {},
   "source": [
    "What happened? Why?"
   ]
  },
  {
   "cell_type": "markdown",
   "metadata": {
    "slideshow": {
     "slide_type": "slide"
    }
   },
   "source": [
    "Try another timestep"
   ]
  },
  {
   "cell_type": "code",
   "execution_count": null,
   "metadata": {
    "slideshow": {
     "slide_type": "slide"
    }
   },
   "outputs": [],
   "source": [
    "# Try a single timestep\n",
    "WL_1 = WL_2\n",
    "WL_2 = WL_1 + (dt * (FI - A*math.sqrt(g * WL_1)))\n",
    "print(WL_2)"
   ]
  },
  {
   "cell_type": "markdown",
   "metadata": {},
   "source": [
    "WL up again, but by a smaller amount."
   ]
  },
  {
   "cell_type": "markdown",
   "metadata": {
    "slideshow": {
     "slide_type": "slide"
    }
   },
   "source": [
    "But this is tedious typing. Time to **define a function** to make things easier and more reliable:"
   ]
  },
  {
   "cell_type": "code",
   "execution_count": null,
   "metadata": {},
   "outputs": [],
   "source": [
    "# function to 'step forward', calculating WL at time t+1 \n",
    "\n",
    "def step_forward(WL, g=9.8,A=0.1,FI=2):\n",
    "    \n",
    "    # compute flow out\n",
    "    if WL <= 0: # can't take sqrt(0)\n",
    "        FO = 0\n",
    "    else: \n",
    "        FO = A*math.sqrt(g * WL)\n",
    "    \n",
    "    # compute WL at time t + 1 using equation above\n",
    "    WL_tplus1 = WL + (dt * (FI - FO))\n",
    "    \n",
    "    # return WL value at time t+1 \n",
    "    return WL_tplus1"
   ]
  },
  {
   "cell_type": "raw",
   "metadata": {},
   "source": [
    "# concise version. harder to read?\n",
    "\n",
    "def step_forward(WL,g=9.8,A=0.1,FI=2):\n",
    "    \n",
    "    if WL <= 0: FO = 0\n",
    "    else: FO = A*math.sqrt(g * WL)\n",
    "    \n",
    "    return WL + (dt * (FI - FO))"
   ]
  },
  {
   "cell_type": "markdown",
   "metadata": {
    "slideshow": {
     "slide_type": "slide"
    }
   },
   "source": [
    "### Automate the timestepping with a loop\n",
    "\n",
    "Now let's really harness the power of the computer by **making a loop** (and storing values in arrays):"
   ]
  },
  {
   "cell_type": "code",
   "execution_count": null,
   "metadata": {},
   "outputs": [],
   "source": [
    "# set initial wl -- part 2 edit below!\n",
    "initial_WL = 0\n",
    "\n",
    "numsteps = 500\n",
    "\n",
    "wlevels = np.zeros(numsteps+1) # Empty vector to hold the water levels\n",
    "wlevels[0] = initial_WL # Adding the first element of that vector to be the initial conditions\n",
    "\n",
    "seconds = np.zeros(numsteps+1) # Empty vector to keep track of where in time our prediction is\n",
    "\n",
    "\n",
    "for t in range(numsteps): # for each time step \"t\"\n",
    "    \n",
    "    seconds[t+1] = t+1 # add the next value to the time step tracker (where in time is our algorithm?)\n",
    "    wlevels[t+1] = step_forward(wlevels[t]) # use current WL at time t\n",
    "    \n",
    "    #and then use the \"step_forward\" function to predict WL at t+1\n",
    "    \n",
    "# save water levels into another variable w/ a new name -- part 2 edit below!\n",
    "wlevels_1 = wlevels\n",
    "print(wlevels_1)"
   ]
  },
  {
   "cell_type": "markdown",
   "metadata": {},
   "source": [
    "What did we just do?\n",
    "\n",
    "- Created an array of zeros\n",
    "- set the initial water level to 0 m\n",
    "- repeated our time step 60 times. \n",
    "- Stored the results of each time step into the array."
   ]
  },
  {
   "cell_type": "code",
   "execution_count": null,
   "metadata": {},
   "outputs": [],
   "source": [
    "# plot water levels over time\n",
    "\n",
    "# setup axis\n",
    "fig, ax = plt.subplots()\n",
    "\n",
    "# plot x = time, y = water level\n",
    "ax.plot(seconds, wlevels_1)\n",
    "    # part 2: add line for wlevels_2 here!\n",
    "\n",
    "# axis labels\n",
    "ax.set(xlabel='Time [seconds]', ylabel='Tub water level $WL$', title='Water level in stylized bathtub system')\n",
    "\n",
    "# horiz. line at equilibrium level computed earlier\n",
    "# ax.axhline(WL_eq, color='grey', ls='--') # part 2: un-comment this line (delete # symbol at the far left)"
   ]
  },
  {
   "cell_type": "markdown",
   "metadata": {},
   "source": [
    "### Numerical Solution and Graphical Representation, Part 2: New Initial Conditions"
   ]
  },
  {
   "cell_type": "markdown",
   "metadata": {},
   "source": [
    "Now, what if we had different **initial conditions** in this system? For example, what if we started out by dumping a 60 m3 bucket of water into the tub? Adjust the above code to compute the wlevels over time if the tub started with WL = 60 meters."
   ]
  },
  {
   "cell_type": "markdown",
   "metadata": {},
   "source": [
    "*Hint: copy the 2 code cells above, all you need to change is the 'initial state' variable, and save the results into a new variable called `wlevels_2`. Add one line to the plotting code, plotting `wlevels_2` on the same axis as `wlevels_1`.*"
   ]
  },
  {
   "cell_type": "code",
   "execution_count": null,
   "metadata": {},
   "outputs": [],
   "source": [
    "# set initial wl -- part 2 edit below!\n",
    "initial_WL = 60\n",
    "\n",
    "numsteps = 500\n",
    "\n",
    "wlevels = np.zeros(numsteps+1) # Empty vector to hold the water levels\n",
    "wlevels[0] = initial_WL # Adding the first element of that vector to be the initial conditions\n",
    "\n",
    "seconds = np.zeros(numsteps+1) # Empty vector to keep track of where in time our prediction is\n",
    "\n",
    "\n",
    "for t in range(numsteps): # for each time step \"t\"\n",
    "    \n",
    "    seconds[t+1] = t+1 # add the next value to the time step tracker (where in time is our algorithm?)\n",
    "    wlevels[t+1] = step_forward(wlevels[t]) # use current WL at time t\n",
    "    \n",
    "    #and then use the \"step_forward\" function to predict WL at t+1\n",
    "    \n",
    "# save water levels into another variable w/ a new name -- part 2 edit below!\n",
    "wlevels_2 = wlevels\n",
    "print(wlevels_2)"
   ]
  },
  {
   "cell_type": "code",
   "execution_count": null,
   "metadata": {},
   "outputs": [],
   "source": [
    "# plot water levels over time\n",
    "\n",
    "# setup axis\n",
    "fig, ax = plt.subplots()\n",
    "\n",
    "# plot x = time, y = water level\n",
    "ax.plot(seconds, wlevels_1, label='INITIAL WL=0m')\n",
    "ax.plot(seconds, wlevels_2, label='INITIAL WL=60m')\n",
    "\n",
    "# axis labels\n",
    "ax.set(xlabel='Time [seconds]', ylabel='Tub water level $WL$', title='Water level in stylized bathtub system')\n",
    "\n",
    "# horiz. line at equilibrium level computed earlier\n",
    "ax.axhline(WL_eq, color='grey', ls='--') # part 2: un-comment this line (delete # symbol at the far left)\n",
    "ax.legend()"
   ]
  },
  {
   "cell_type": "markdown",
   "metadata": {},
   "source": [
    "---\n",
    "### 4. Summary\n",
    "---"
   ]
  },
  {
   "cell_type": "markdown",
   "metadata": {},
   "source": [
    "1. We have learned how to access JupyterHub and the computing resources for Geog60.01\n",
    "2. We learned how to interact with Jupyter notebook.\n",
    "3. Python can be used as a calculator. It has all the functions and arithmetic operations commonly used with a scientific calculator.\n",
    "4. How to store values in variables for later use\n",
    "5. We have applied the knowledge we've built through our model theory part of the class to a stylized example of a bathtub. Next week, we will see why this bathtub and its equilibrium water level are analogous to Earth and its equilibrium temperature."
   ]
  },
  {
   "cell_type": "code",
   "execution_count": null,
   "metadata": {},
   "outputs": [],
   "source": [
    "# thanks to the berkeley tutorial. https://pythonnumericalmethods.berkeley.edu/notebooks/chapter01.00-Python-Basics.html\n",
    "# and Brian Rose. "
   ]
  },
  {
   "cell_type": "markdown",
   "metadata": {},
   "source": [
    "---"
   ]
  }
 ],
 "metadata": {
  "kernelspec": {
   "display_name": "Python nvas311",
   "language": "python",
   "name": "nvas311"
  },
  "language_info": {
   "codemirror_mode": {
    "name": "ipython",
    "version": 3
   },
   "file_extension": ".py",
   "mimetype": "text/x-python",
   "name": "python",
   "nbconvert_exporter": "python",
   "pygments_lexer": "ipython3",
   "version": "3.8.2"
  }
 },
 "nbformat": 4,
 "nbformat_minor": 2
}
