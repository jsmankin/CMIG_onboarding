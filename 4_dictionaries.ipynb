{
 "cells": [
  {
   "cell_type": "markdown",
   "metadata": {},
   "source": [
    "# **CMIG - Python Tutorials**"
   ]
  },
  {
   "cell_type": "markdown",
   "metadata": {},
   "source": [
    "*The idea of this notebook is for you to read through the text and execute each cell as you go along, filling in commands/blocks of code as necessary. This is intended for people with little to no programming / python experience. If this is review for you, feel free to skim through it.*  "
   ]
  },
  {
   "cell_type": "markdown",
   "metadata": {},
   "source": [
    "# Data Structures: Dictionaries"
   ]
  },
  {
   "cell_type": "markdown",
   "metadata": {},
   "source": [
    "Here you will learn how to create and manipulate some of Python’s most common variable types.\n",
    "\n",
    "\n",
    "OUTLINE:\n",
    "- Dictionaries\n",
    "- Exercises\n",
    "- Additional resources"
   ]
  },
  {
   "cell_type": "markdown",
   "metadata": {},
   "source": [
    "---\n",
    "### Dictionaries\n",
    "---"
   ]
  },
  {
   "cell_type": "markdown",
   "metadata": {},
   "source": [
    "**Dictionaries** are another useful data structure. They are a ***mapping*** type, which makes them totally different from lists. Instead of using a sequence of numbers to index the elements, **dictionaries are indexed by keys,** which could be a string, number or even tuple (but not list). \n",
    "\n",
    "Dictionaries are used to store data values in key:value pairs. Each key maps to a corresponding value. \n",
    "\n",
    "A dictionary is a collection which is ordered (the list of entries cannot be altered), changeable, and does not allow duplicates.\n",
    "\n",
    "They are defined by using a pair of braces `{ }`, while the elements are a list of comma separated key:value pairs.\n",
    "\n"
   ]
  },
  {
   "cell_type": "markdown",
   "metadata": {},
   "source": [
    "For example, here's a dictionary that contains the airport code as the 'key' and the city name as the 'value':"
   ]
  },
  {
   "cell_type": "code",
   "execution_count": null,
   "metadata": {},
   "outputs": [],
   "source": [
    "# note the key:value pair is separated by the colon, with key at front and value at the end.\n",
    "\n",
    "airports = {'BOS':'Boston', 'BTV':'Burlington', 'LEB':'Lebanon', 'PVD':'Providence'}\n",
    "airports"
   ]
  },
  {
   "cell_type": "markdown",
   "metadata": {},
   "source": [
    "To access the value assoviated with a given key:"
   ]
  },
  {
   "cell_type": "code",
   "execution_count": null,
   "metadata": {},
   "outputs": [],
   "source": [
    "airports.get('LEB')"
   ]
  },
  {
   "cell_type": "markdown",
   "metadata": {},
   "source": [
    "or, simply:"
   ]
  },
  {
   "cell_type": "code",
   "execution_count": null,
   "metadata": {},
   "outputs": [],
   "source": [
    "airports['LEB']"
   ]
  },
  {
   "cell_type": "markdown",
   "metadata": {},
   "source": [
    "Let's create a new dictionary with data from two atmospheric variables:"
   ]
  },
  {
   "cell_type": "code",
   "execution_count": null,
   "metadata": {},
   "outputs": [],
   "source": [
    "BOS_data = {\n",
    "'temperature' : [25,26,27,28,30],\n",
    "'humidity' : [50,60,70,80,90]\n",
    "}\n",
    "\n",
    "BOS_data"
   ]
  },
  {
   "cell_type": "code",
   "execution_count": null,
   "metadata": {},
   "outputs": [],
   "source": [
    "# display temperature data\n",
    "BOS_data['temperature']"
   ]
  },
  {
   "cell_type": "markdown",
   "metadata": {},
   "source": [
    "And again similar to lists, one can create nested dictionaries, in this case we have two cities as keys, each with their own dictionary containing atmospheric variables and corresponding data as their keys and values."
   ]
  },
  {
   "cell_type": "code",
   "execution_count": null,
   "metadata": {},
   "outputs": [],
   "source": [
    "data = {\n",
    "'Phoenix':{'temperature':[50],'humidity':[20]},\n",
    "'Barrow':{'temperature':[-30],'humidity':[20]}\n",
    "}\n",
    "data"
   ]
  },
  {
   "cell_type": "markdown",
   "metadata": {},
   "source": [
    "Example to access the temperature data from Phoenix:"
   ]
  },
  {
   "cell_type": "code",
   "execution_count": null,
   "metadata": {},
   "outputs": [],
   "source": [
    "data['Phoenix']['temperature']"
   ]
  },
  {
   "cell_type": "markdown",
   "metadata": {},
   "source": [
    "There are many other methods that can be applied to dictionaries, but they will not be covered here."
   ]
  },
  {
   "cell_type": "markdown",
   "metadata": {},
   "source": [
    "---\n",
    "### Exercises\n",
    "---"
   ]
  },
  {
   "cell_type": "markdown",
   "metadata": {},
   "source": [
    "1. Create a dictionary that has the keys ‘A’, ‘B’, ‘C’ with values ‘a’, ‘b’, ‘c’ individually.\n",
    "\n",
    "2. Run the following code to create `dict_2`:\n",
    "```python\n",
    "dict_2 = {\n",
    "    'Dartmouth':{'Location':'Hanover', 'Enrollment':4146},\n",
    "    'UNH':{'Location':'Durham', 'Enrollment':11663},\n",
    "    'Plymouth State':{'Location':'Plymouth', 'Enrollment':3693}\n",
    "}\n",
    "```\n",
    "    - Write code to produce UNH's enrollment\n",
    "    - Write code to produce Dartmouth's location\n",
    "    \n",
    "3. Create a dictionary from the following table (don't worry about the headers):\n",
    "\n",
    "| Name | Home State |\n",
    "| --- | --- |\n",
    "| Tony | New Jersey |\n",
    "| Michael | Pennsylvania |\n",
    "| Walter | New Mexico |\n",
    "| Leslie | Indiana |"
   ]
  },
  {
   "cell_type": "code",
   "execution_count": null,
   "metadata": {},
   "outputs": [],
   "source": [
    "# 1. \n"
   ]
  },
  {
   "cell_type": "code",
   "execution_count": null,
   "metadata": {},
   "outputs": [],
   "source": [
    "# 2.\n",
    "dict_2 = {\n",
    "    'Dartmouth':{'Location':'Hanover', 'Enrollment':4146},\n",
    "    'UNH':{'Location':'Durham', 'Enrollment':11663},\n",
    "    'Plymouth State':{'Location':'Plymouth', 'Enrollment':3693}\n",
    "}\n",
    "\n",
    "# your code below:\n"
   ]
  },
  {
   "cell_type": "code",
   "execution_count": null,
   "metadata": {},
   "outputs": [],
   "source": [
    "# 3.\n"
   ]
  },
  {
   "cell_type": "markdown",
   "metadata": {},
   "source": [
    "---\n",
    "### Additional Resources\n",
    "---"
   ]
  },
  {
   "cell_type": "markdown",
   "metadata": {},
   "source": [
    "[Python Numerical Methods - Data Structures - Dictionaries](https://pythonnumericalmethods.berkeley.edu/notebooks/chapter02.06-Data-Structure-Dictionaries.html)\n",
    "\n",
    "[Python Dictionaries - w3schools](https://www.w3schools.com/python/python_dictionaries.asp)\n",
    "\n",
    "[Python Dictionary Exercises with Solutions](https://pynative.com/python-dictionary-exercise-with-solutions/)"
   ]
  }
 ],
 "metadata": {
  "kernelspec": {
   "display_name": "Python nvas311",
   "language": "python",
   "name": "nvas311"
  },
  "language_info": {
   "codemirror_mode": {
    "name": "ipython",
    "version": 3
   },
   "file_extension": ".py",
   "mimetype": "text/x-python",
   "name": "python",
   "nbconvert_exporter": "python",
   "pygments_lexer": "ipython3",
   "version": "3.8.2"
  }
 },
 "nbformat": 4,
 "nbformat_minor": 2
}
