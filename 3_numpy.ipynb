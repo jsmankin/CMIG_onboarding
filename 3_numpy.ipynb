{
 "cells": [
  {
   "cell_type": "markdown",
   "metadata": {},
   "source": [
    "# **CMIG - Python Tutorials**"
   ]
  },
  {
   "cell_type": "markdown",
   "metadata": {},
   "source": [
    "*The idea of this notebook is for you to read through the text and execute each cell as you go along, filling in commands/blocks of code as necessary. This is intended for people with little to no programming / python experience. If this is review for you, feel free to skim through it.*  "
   ]
  },
  {
   "cell_type": "markdown",
   "metadata": {},
   "source": [
    "# Data Structures: `NumPy` Arrays"
   ]
  },
  {
   "cell_type": "markdown",
   "metadata": {},
   "source": [
    "***This notebook will be easiest to understand if you have already completed the lists tutorial!***"
   ]
  },
  {
   "cell_type": "markdown",
   "metadata": {},
   "source": [
    "Here you will learn how to create and manipulate some of Python’s most common variable types.\n",
    "\n",
    "\n",
    "OUTLINE:\n",
    "- NumPy Arrays\n",
    "    - Arange and Linspace\n",
    "    - Indexing and Slicing NumPy Arrays\n",
    "    - Predefined Arrays\n",
    "    - Manipulating Arrays, Math\n",
    "- Exercises\n",
    "- Additional resources"
   ]
  },
  {
   "cell_type": "markdown",
   "metadata": {},
   "source": [
    "---\n",
    "### NumPy Arrays\n",
    "---"
   ]
  },
  {
   "cell_type": "markdown",
   "metadata": {},
   "source": [
    "Using arrays / matrices can be incredibly useful and powerful in scientific computing. The most common way to handle arrays in Python is using the [NumPy (NumericalPython) module](https://numpy.org/doc/stable/). \n",
    "\n",
    "NumPy (Numerical Python) is an add-on package for Python that provides tools for creating and manipulating large, multi-dimensional arrays and matrices. \n",
    "\n",
    "NumPy arrays are similar in concept to lists. They contain a sequence of data values and individual values can be accessed/changed using indexes. \n",
    "\n",
    "Unlike lists, NumPy arrays are designed to optimize speed when using them in mathematically intensive applications. \n",
    "\n",
    "Similar to how we imported `math` in the last practical, we will import `numpy` below. "
   ]
  },
  {
   "cell_type": "code",
   "execution_count": null,
   "metadata": {},
   "outputs": [],
   "source": [
    "# the conventional way to import numpy is to use \"np\" as a shortened name.\n",
    "import numpy as np"
   ]
  },
  {
   "cell_type": "markdown",
   "metadata": {},
   "source": [
    "To define an array in Python, you could use the `np.array()` function to convert a list."
   ]
  },
  {
   "cell_type": "markdown",
   "metadata": {},
   "source": [
    "To create the following arrays:"
   ]
  },
  {
   "cell_type": "markdown",
   "metadata": {},
   "source": [
    "$x=\\left( \\begin{array}{lcr}\n",
    "        1 & 2 & 3 \\\\\n",
    "        \\end{array} \\right)$"
   ]
  },
  {
   "cell_type": "markdown",
   "metadata": {},
   "source": [
    "$y=\\left( \\begin{array}{lcr}\n",
    "        5 & 6 & 7 \\\\\n",
    "        8 & 9 & 10 \\\\\n",
    "        \\end{array} \\right)$"
   ]
  },
  {
   "cell_type": "code",
   "execution_count": null,
   "metadata": {},
   "outputs": [],
   "source": [
    "# note how we use the \"module.function\" syntax that was highlighted in the last practical. \n",
    "x = np.array([1, 2, 3])\n",
    "x"
   ]
  },
  {
   "cell_type": "code",
   "execution_count": null,
   "metadata": {},
   "outputs": [],
   "source": [
    "# for 2-d arrays you can use nested lists, with the inner list representing each row. \n",
    "y = np.array([[5, 6, 7], [8, 9, 10]])\n",
    "y"
   ]
  },
  {
   "cell_type": "markdown",
   "metadata": {},
   "source": [
    "If you check `type(x)`, you'll see it is registered as a numpy ndarray, which means n-dimensional array."
   ]
  },
  {
   "cell_type": "code",
   "execution_count": null,
   "metadata": {},
   "outputs": [],
   "source": [
    "type(x)"
   ]
  },
  {
   "cell_type": "markdown",
   "metadata": {},
   "source": [
    "Many times we would like to know the size or length of an array. \n",
    "\n",
    "The `shape` attribute gives an array's dimensions, in format (row, col, ...).\n",
    "\n",
    "The `size` attribute returns the total number of elements in an array. "
   ]
  },
  {
   "cell_type": "code",
   "execution_count": null,
   "metadata": {},
   "outputs": [],
   "source": [
    "# so this tells us that y has 2 rows, 3 columns. Note that y.shape is a tuple. \n",
    "y.shape"
   ]
  },
  {
   "cell_type": "code",
   "execution_count": null,
   "metadata": {},
   "outputs": [],
   "source": [
    "# this tells us that y has 6 total elements\n",
    "y.size"
   ]
  },
  {
   "cell_type": "markdown",
   "metadata": {},
   "source": [
    "*You may notice the difference that we only use* `y.shape` *instead of* `y.shape()`, *this is because shape is an attribute rather than a method in this array object. This has to do with python being an object-oriented programming language. All you need to remember is that when we call a method in an object we need to use the parentheses, while for attributes we don’t.*"
   ]
  },
  {
   "cell_type": "markdown",
   "metadata": {},
   "source": [
    "**TRY IT:** "
   ]
  },
  {
   "cell_type": "markdown",
   "metadata": {},
   "source": [
    "a. Use the `np.array()` function to create the matrix below: \n",
    "\n",
    "$\\text{foo} = \\left( \\begin{array}{lcr}\n",
    "    18 & 3 & 9 \\\\\n",
    "    23 & 19 & 11 \\\\\n",
    "    31& 44 & 1 \\\\\n",
    "    \\end{array} \\right)$"
   ]
  },
  {
   "cell_type": "code",
   "execution_count": null,
   "metadata": {},
   "outputs": [],
   "source": [
    "# your code here\n"
   ]
  },
  {
   "cell_type": "markdown",
   "metadata": {},
   "source": [
    "b. Consider the array \n",
    "\n",
    "$\\text{bar} = \\left( \\begin{array}{lcr}\n",
    "    39 & 9 & 47 & 5 & 63 \\\\\n",
    "    19 & 74 & 31 & 24 & 52 \\\\\n",
    "    45 & 30 & 72 & 3 & 90 \\\\\n",
    "    22 & 91 & 47 & 38 & 84 \\\\\n",
    "    \\end{array} \\right)$\n",
    "                                                    \n",
    "What would `bar.shape` return? What would `bar.size` return?"
   ]
  },
  {
   "cell_type": "code",
   "execution_count": null,
   "metadata": {},
   "outputs": [],
   "source": []
  },
  {
   "cell_type": "markdown",
   "metadata": {},
   "source": [
    "### Arange and Linspace"
   ]
  },
  {
   "cell_type": "markdown",
   "metadata": {},
   "source": [
    "We would often like to generate arrays that have a structure or pattern. For example, we may wish to create the array z = [1 2 3 … 2000]. \n",
    "\n",
    "It would be very cumbersome to type the entire description of z into Python. To generate arrays that are in order and evenly spaced, use the `arange()` function in Numpy."
   ]
  },
  {
   "cell_type": "code",
   "execution_count": null,
   "metadata": {},
   "outputs": [],
   "source": [
    "# first argument represents start number, second arg is end number, last is increment.\n",
    "# (1 is default increment so np.arange(1, 2000) would get you the same result as below.)\n",
    "z = np.arange(1, 2000, 1)\n",
    "z"
   ]
  },
  {
   "cell_type": "markdown",
   "metadata": {},
   "source": [
    "*Note that 2000 is NOT included in the resulting array. The `np.arange()` function does not include the end value. For more info, try running:*\n",
    "```python\n",
    "np.arange?\n",
    "```\n",
    "\n",
    "Negative or noninteger increments can also be used. If the increment “misses” the last value, it will only extend until the value just before the ending value. For example, `x = np.arange(1,8,2)` would be `[1, 3, 5, 7]`."
   ]
  },
  {
   "cell_type": "markdown",
   "metadata": {},
   "source": [
    "**TRY IT:** Use `arange()` to generate an this array: $ar = \\left( \\begin{array}{lcr}\n",
    "                                                                    0.5 & 1 & 1.5 & 2 & 2.5 \\\\\n",
    "                                                                    \\end{array} \\right)$"
   ]
  },
  {
   "cell_type": "code",
   "execution_count": null,
   "metadata": {},
   "outputs": [],
   "source": [
    "# your code here\n"
   ]
  },
  {
   "cell_type": "markdown",
   "metadata": {},
   "source": [
    "If you wanted to guarantee a start and end point for an array but still have evenly spaced elements, you can use numpy's `linspace()` function. \n",
    "\n",
    "Syntax for `linspace()` is very similar to `arange()`, where the code `A = np.linspace(a, b, n)` generates an array of *n* equally spaced elements starting from a and ending at b."
   ]
  },
  {
   "cell_type": "markdown",
   "metadata": {},
   "source": [
    "**TRY IT:** Use `linspace()` to generate an array starting at 3, ending at 9, and containing 10 elements."
   ]
  },
  {
   "cell_type": "code",
   "execution_count": null,
   "metadata": {},
   "outputs": [],
   "source": [
    "# your code here\n"
   ]
  },
  {
   "cell_type": "markdown",
   "metadata": {},
   "source": [
    "### Indexing and Slicing Numpy Arrays"
   ]
  },
  {
   "cell_type": "markdown",
   "metadata": {},
   "source": [
    "Accessing values within a numpy array is very similar to addressing lists. *The below examples should all feel like review!*"
   ]
  },
  {
   "cell_type": "code",
   "execution_count": null,
   "metadata": {},
   "outputs": [],
   "source": [
    "arr = np.array([1, 2, 4, 8, 16, 32])\n",
    "arr"
   ]
  },
  {
   "cell_type": "code",
   "execution_count": null,
   "metadata": {},
   "outputs": [],
   "source": [
    "# get the first element in the array \n",
    "arr[0]\n",
    "\n",
    "# REMEMBER that computers use 0-indexed counting, meaning that the element at index 0 is what we\n",
    "# would consider the 'first element.'"
   ]
  },
  {
   "cell_type": "markdown",
   "metadata": {},
   "source": [
    "<div>\n",
    "<img src=\"https://cdn.pimylifeup.com/wp-content/uploads/2020/01/Python-Arrays-Index-example-diagram.png\" width=\"500\"/>\n",
    "</div>"
   ]
  },
  {
   "cell_type": "code",
   "execution_count": null,
   "metadata": {},
   "outputs": [],
   "source": [
    "# get all elements after the 2nd element of arr (index = 1)\n",
    "arr[1:]"
   ]
  },
  {
   "cell_type": "code",
   "execution_count": null,
   "metadata": {},
   "outputs": [],
   "source": [
    "# get first 3 elements in arr\n",
    "arr[:3]"
   ]
  },
  {
   "cell_type": "code",
   "execution_count": null,
   "metadata": {},
   "outputs": [],
   "source": [
    "# slice \n",
    "arr[2:5]"
   ]
  },
  {
   "cell_type": "code",
   "execution_count": null,
   "metadata": {},
   "outputs": [],
   "source": [
    "# get last element of arr\n",
    "arr[-1]"
   ]
  },
  {
   "cell_type": "markdown",
   "metadata": {},
   "source": [
    "For 2D arrays, indexing is slightly different since we have rows and columns. To access the data in a 2D array M, we need to use `M[r, c]`, where r denotes row and c denotes column. This is referred to as **array indexing**. The r and c could be single number, a list and so on. If you only think about the row index or the column index, than it is similar to the 1D array. \n",
    "\n",
    "Let’s use the array $y=\\left( \\begin{array}{lcr}\n",
    "        5 & 6 & 7 \\\\\n",
    "        8 & 9 & 10 \\\\\n",
    "        \\end{array} \\right)$ as an example."
   ]
  },
  {
   "cell_type": "markdown",
   "metadata": {},
   "source": [
    "**TRY IT:** Get the element at the first row and second column of array y. (Should equal 6)."
   ]
  },
  {
   "cell_type": "code",
   "execution_count": null,
   "metadata": {},
   "outputs": [],
   "source": [
    "# your code here\n"
   ]
  },
  {
   "cell_type": "markdown",
   "metadata": {},
   "source": [
    "Get the first row of array y."
   ]
  },
  {
   "cell_type": "code",
   "execution_count": null,
   "metadata": {},
   "outputs": [],
   "source": []
  },
  {
   "cell_type": "markdown",
   "metadata": {},
   "source": [
    "Get the last column of array y.\n",
    "\n"
   ]
  },
  {
   "cell_type": "code",
   "execution_count": null,
   "metadata": {},
   "outputs": [],
   "source": []
  },
  {
   "cell_type": "markdown",
   "metadata": {},
   "source": [
    "Get the first and third column of array y."
   ]
  },
  {
   "cell_type": "code",
   "execution_count": null,
   "metadata": {},
   "outputs": [],
   "source": []
  },
  {
   "cell_type": "markdown",
   "metadata": {},
   "source": [
    "### Predefined Arrays"
   ]
  },
  {
   "cell_type": "markdown",
   "metadata": {},
   "source": [
    "There are some predefined arrays that are really useful. For example, `np.zeros()` creates an array full of zeros, and `np.ones()` creates an array full of ones. Simply provide the shape (in parentheses) of the desired array you want to produce.\n",
    "\n",
    "For example:"
   ]
  },
  {
   "cell_type": "code",
   "execution_count": null,
   "metadata": {},
   "outputs": [],
   "source": [
    "# Note: np.zeros(3, 5) would get you an error message. For more info, check the np.zeros documentation (run np.zeros? in a cell).\n",
    "zero_arr = np.zeros((3, 5))\n",
    "zero_arr"
   ]
  },
  {
   "cell_type": "markdown",
   "metadata": {},
   "source": [
    "**TRY IT:** Generate a 10 by 4 array with all elements equaling one."
   ]
  },
  {
   "cell_type": "code",
   "execution_count": null,
   "metadata": {},
   "outputs": [],
   "source": [
    "# your code here\n"
   ]
  },
  {
   "cell_type": "markdown",
   "metadata": {},
   "source": [
    "*Note: the shape of the array is defined in a tuple with row as the first item, and column as the second. If you only need a 1D array, then it could be only one number as the input: `np.ones(5)`.*"
   ]
  },
  {
   "cell_type": "markdown",
   "metadata": {},
   "source": [
    "### Manipulating Arrays, Math"
   ]
  },
  {
   "cell_type": "markdown",
   "metadata": {},
   "source": [
    "You can reassign a value of an array by using array indexing and the assignment operator. You can also reassign multiple elements of an array as long as both the number of elements being assigned and the number of elements assigned is the same. This all follows the same method that we saw before with lists."
   ]
  },
  {
   "cell_type": "code",
   "execution_count": null,
   "metadata": {},
   "outputs": [],
   "source": [
    "# ex.\n",
    "a = np.arange(1, 7)\n",
    "a"
   ]
  },
  {
   "cell_type": "code",
   "execution_count": null,
   "metadata": {},
   "outputs": [],
   "source": [
    "a[:3] = 1\n",
    "a"
   ]
  },
  {
   "cell_type": "markdown",
   "metadata": {},
   "source": [
    "NumPy also includes an extensive library of high-level mathematical functions to manipulate and/or analyze data in arrays."
   ]
  },
  {
   "cell_type": "markdown",
   "metadata": {},
   "source": [
    "For example:"
   ]
  },
  {
   "cell_type": "code",
   "execution_count": null,
   "metadata": {},
   "outputs": [],
   "source": [
    "temperature = np.array([25, 26, 27, 28, 30])\n",
    "temperature"
   ]
  },
  {
   "cell_type": "code",
   "execution_count": null,
   "metadata": {},
   "outputs": [],
   "source": [
    "temperature.max() # compute max value in array"
   ]
  },
  {
   "cell_type": "code",
   "execution_count": null,
   "metadata": {},
   "outputs": [],
   "source": [
    "temperature.min() # compute min value in array"
   ]
  },
  {
   "cell_type": "code",
   "execution_count": null,
   "metadata": {},
   "outputs": [],
   "source": [
    "temperature.mean() # compute mean of array"
   ]
  },
  {
   "cell_type": "code",
   "execution_count": null,
   "metadata": {},
   "outputs": [],
   "source": [
    "temperature.std() # compute standard deviation of array"
   ]
  },
  {
   "cell_type": "markdown",
   "metadata": {},
   "source": [
    "More easily manipulate data within array:"
   ]
  },
  {
   "cell_type": "code",
   "execution_count": null,
   "metadata": {},
   "outputs": [],
   "source": [
    "temp_k = np.array([269.03035,270.822052,272.630295,274.371689,276.580139,278.934586,\n",
    "281.225815,282.960449,283.954834,284.775146,285.170166,284.358032,\n",
    "282.454269,282.275955,283.905228,285.315933,286.664642]) # temperature in K\n",
    "temp_k"
   ]
  },
  {
   "cell_type": "markdown",
   "metadata": {},
   "source": [
    "You can do arithmetic operations involving np.arrays and scalars, and this will output more np.arrays!"
   ]
  },
  {
   "cell_type": "code",
   "execution_count": null,
   "metadata": {},
   "outputs": [],
   "source": [
    "# task: convert Kelvin to Celsius\n",
    "temp_c = temp_k - 273.15 \n",
    "temp_c"
   ]
  },
  {
   "cell_type": "markdown",
   "metadata": {},
   "source": [
    "Task: convert K to °F"
   ]
  },
  {
   "cell_type": "code",
   "execution_count": null,
   "metadata": {},
   "outputs": [],
   "source": [
    "# task: convert Kelvin to Fahrenheit\n",
    "temp_f = (temp_k-273.15)*(9/5)+32\n",
    "temp_f"
   ]
  },
  {
   "cell_type": "markdown",
   "metadata": {},
   "source": [
    "---\n",
    "## Exercises\n",
    "---"
   ]
  },
  {
   "cell_type": "markdown",
   "metadata": {},
   "source": [
    "1. Generate an array with size 100 evenly spaced between -10 to 10 using the `linspace()` function in Numpy.\n",
    "\n",
    "2. Create a zero array with size (3, 4)\n",
    "\n",
    "3. Create an array $y=\\left( \\begin{array}{lcr}\n",
    "        5 & 6 & 7 \\\\\n",
    "        8 & 9 & 10 \\\\\n",
    "        \\end{array} \\right)$ and multiply it by 4.\n",
    "        \n",
    "4. Change the second column of the above array to 1."
   ]
  },
  {
   "cell_type": "code",
   "execution_count": null,
   "metadata": {},
   "outputs": [],
   "source": [
    "# 1. \n"
   ]
  },
  {
   "cell_type": "code",
   "execution_count": null,
   "metadata": {},
   "outputs": [],
   "source": [
    "# 2.\n"
   ]
  },
  {
   "cell_type": "code",
   "execution_count": null,
   "metadata": {},
   "outputs": [],
   "source": [
    "# 3. \n"
   ]
  },
  {
   "cell_type": "code",
   "execution_count": null,
   "metadata": {},
   "outputs": [],
   "source": [
    "# 4.\n"
   ]
  },
  {
   "cell_type": "markdown",
   "metadata": {},
   "source": [
    "---\n",
    "### Additional Resources\n",
    "---"
   ]
  },
  {
   "cell_type": "markdown",
   "metadata": {},
   "source": [
    "[NumPy Website (has tons of documentation)](https://numpy.org/doc/stable/)\n",
    "\n",
    "[Python Numerical Methods - Data Structures - NumPy Arrays](https://pythonnumericalmethods.berkeley.edu/notebooks/chapter02.07-Introducing_numpy_arrays.html)\n",
    "\n",
    "[Python NumPy Exercise](https://pynative.com/python-numpy-exercise/)"
   ]
  }
 ],
 "metadata": {
  "kernelspec": {
   "display_name": "Python nvas311",
   "language": "python",
   "name": "nvas311"
  },
  "language_info": {
   "codemirror_mode": {
    "name": "ipython",
    "version": 3
   },
   "file_extension": ".py",
   "mimetype": "text/x-python",
   "name": "python",
   "nbconvert_exporter": "python",
   "pygments_lexer": "ipython3",
   "version": "3.8.2"
  }
 },
 "nbformat": 4,
 "nbformat_minor": 2
}
