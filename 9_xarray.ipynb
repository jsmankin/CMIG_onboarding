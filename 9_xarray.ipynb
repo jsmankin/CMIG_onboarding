{
 "cells": [
  {
   "cell_type": "markdown",
   "metadata": {},
   "source": [
    "# **CMIG - Python Tutorials**"
   ]
  },
  {
   "cell_type": "markdown",
   "metadata": {},
   "source": [
    "*The idea of this notebook is for you to read through the text and execute each cell as you go along, filling in commands/blocks of code as necessary. This is intended for people with little to no programming / python experience. If this is review for you, feel free to skim through it.*  "
   ]
  },
  {
   "cell_type": "code",
   "execution_count": null,
   "metadata": {},
   "outputs": [],
   "source": [
    "################################################################################################\n",
    "# 3/16/23 NOTE: THIS NEEDS TO BE EDITED TO BE COMPATIBLE WITH POSSIBLE NEW JHUB FILE STRUCTURE # \n",
    "################################################################################################"
   ]
  },
  {
   "cell_type": "markdown",
   "metadata": {},
   "source": [
    "# Data Science: Xarray Fundamentals"
   ]
  },
  {
   "cell_type": "markdown",
   "metadata": {},
   "source": [
    "OUTLINE:\n",
    "- Xarray Intro\n",
    "- Xarray data structures\n",
    "- Selecting data\n",
    "- Reductions\n",
    "- Loading data from netCDF files\n",
    "- Recap\n",
    "- Exercises & Further Resources"
   ]
  },
  {
   "cell_type": "markdown",
   "metadata": {},
   "source": [
    "---\n",
    "<a id='section1'></a>\n",
    "## Xarray Intro\n",
    "---\n",
    "\n",
    "In climate modeling (and the data sciences more widely), we often deal with multidimensional data. By multidimensional data (also often called N-dimensional), I mean data with many independent dimensions or axes. \n",
    "\n",
    "For example, we might represent Earth’s surface temperature as a four dimensional variable:\n",
    "\n",
    "$$ T(x,y,z,t)$$\n",
    "\n",
    "where \n",
    "$x$ is longitude, \n",
    "$y$ is latitude, \n",
    "$z$ is the vertical level, and \n",
    "$t$ is time.\n",
    "\n",
    "We could even want to store multiple variables within the same dataset. \n",
    "\n",
    "Geo- and computer scientists have developed a python package called [Xarray](https://docs.xarray.dev/en/stable/getting-started-guide/why-xarray.html) that helps us keep track of the metadata and values associated with (usually gridded) high dimensional data. The point of xarray is to provide convenience for working with this type of data.\n",
    "<div>\n",
    "<img src=https://camo.githubusercontent.com/d19bddb6855355ed99d87d60975a8a85cc1807975f80a83d42912108e24e2a10/68747470733a2f2f676466612e7567722e65732f707974686f6e2f636c696d6174655f646174612f696d672f786172726179322e706e67 width=\"900\">\n",
    "<div>\n",
    "\n",
    "Xarray essentially \"wraps\" metadata around NumPy arrays. In other words, the gridded values in an Xarray dataset are stored in NumPy arrays (which we've talked about before), but Xarray allows you to store and manipulate lots of helpful information such as dataset names, dimensions, coordinates, and other metadata, and also provides tons of useful built-in methods which make analysis very simple. "
   ]
  },
  {
   "cell_type": "markdown",
   "metadata": {},
   "source": [
    "<a id='section2'> </a>\n",
    "\n",
    "---\n",
    "## Xarray data structures\n",
    "---\n",
    "\n",
    "Xarray has two fundamental data structures:\n",
    "\n",
    "- a `DataArray`, which holds a single multi-dimensional variable and its coordinates\n",
    "\n",
    "- a `Dataset`, which holds multiple variables that potentially share the same coordinates"
   ]
  },
  {
   "cell_type": "markdown",
   "metadata": {},
   "source": [
    "### DataArray"
   ]
  },
  {
   "cell_type": "markdown",
   "metadata": {},
   "source": [
    "A DataArray has four essential attributes:\n",
    "\n",
    "- `values`: a `numpy.ndarray` holding the array’s values. The actual numerical data of interest.\n",
    "\n",
    "- `dims`: dimension names for each axis (e.g., ('x', 'y', 'z'))\n",
    "\n",
    "- `coords`: a dict-like container of arrays (coordinates) that label each point (e.g., 1-dimensional arrays of numbers, datetime objects or strings)\n",
    "\n",
    "- `attrs`: an OrderedDict to hold arbitrary metadata (attributes)\n",
    "\n",
    "Let’s start by constructing some DataArrays manually:"
   ]
  },
  {
   "cell_type": "code",
   "execution_count": null,
   "metadata": {},
   "outputs": [],
   "source": [
    "import os\n",
    "import numpy as np\n",
    "import xarray as xr # here we are importing xarray\n",
    "\n",
    "# for plotting / visualizing:\n",
    "from matplotlib import pyplot as plt\n",
    "%matplotlib inline\n",
    "plt.rcParams['figure.figsize'] = (8,5)"
   ]
  },
  {
   "cell_type": "markdown",
   "metadata": {},
   "source": [
    "A simple DataArray without dimensions or coordinates isn’t much use:"
   ]
  },
  {
   "cell_type": "code",
   "execution_count": null,
   "metadata": {},
   "outputs": [],
   "source": [
    "# the xr.DataArray() function is how we construct a DataArray\n",
    "da = xr.DataArray([9, 0, 2, 1, 0])\n",
    "da"
   ]
  },
  {
   "cell_type": "markdown",
   "metadata": {},
   "source": [
    "*Note: Just like with displaying a variable's values, if you simply run a cell with your dataArray / dataset name you will be able to view its contents (variables, dims, coords, metadata, etc.)*"
   ]
  },
  {
   "cell_type": "markdown",
   "metadata": {},
   "source": [
    "We could add a dimension name…"
   ]
  },
  {
   "cell_type": "code",
   "execution_count": null,
   "metadata": {},
   "outputs": [],
   "source": [
    "da = xr.DataArray([9, 0, 2, 1, 0], dims=['year'])\n",
    "da"
   ]
  },
  {
   "cell_type": "markdown",
   "metadata": {},
   "source": [
    "But things get most interesting when we add a coordinate:"
   ]
  },
  {
   "cell_type": "code",
   "execution_count": null,
   "metadata": {},
   "outputs": [],
   "source": [
    "da = xr.DataArray([9, 0, 2, 1, 0],\n",
    "                  dims=['year'],\n",
    "                  coords={'year': [2010, 2011, 2012, 2013, 2014]})\n",
    "da"
   ]
  },
  {
   "cell_type": "markdown",
   "metadata": {},
   "source": [
    "This coordinate has been used to create an *index*, in other words, a way to select certain data based on the values of that dimensions.\n",
    "\n",
    "And, Xarray has built-in plotting using the `plot()` method."
   ]
  },
  {
   "cell_type": "code",
   "execution_count": null,
   "metadata": {},
   "outputs": [],
   "source": [
    "da.plot(marker='o')"
   ]
  },
  {
   "cell_type": "markdown",
   "metadata": {},
   "source": [
    "### Dataset"
   ]
  },
  {
   "cell_type": "markdown",
   "metadata": {},
   "source": [
    "An Xarray Dataset is simply a collection of multiple DataArrays that share some/all of their dims and coordinates.\n",
    "\n",
    "Manually constructing datasets is a bit more complicated syntax-wise, but here is a brief example. \n",
    "\n",
    "For example:"
   ]
  },
  {
   "cell_type": "code",
   "execution_count": null,
   "metadata": {},
   "outputs": [],
   "source": [
    "# here we are just putting together a made up dataset with var's temp and precip\n",
    "# and one dimension (time)\n",
    "# using made up data. Don't worry about the syntax for now!\n",
    "\n",
    "tempdata = [58, 38, 49, 52, 57]\n",
    "precipdata = [3, 0.1, 0.46, 1.1, 0.8]\n",
    "timedata = [2010, 2011, 2012, 2013, 2014]\n",
    "\n",
    "ds = xr.Dataset(data_vars=dict(temp=(['time'], tempdata),\n",
    "                         precip=(['time'], precipdata)\n",
    "                         ),\n",
    "            coords=dict(time=timedata)\n",
    "           )\n",
    "\n",
    "ds"
   ]
  },
  {
   "cell_type": "markdown",
   "metadata": {},
   "source": [
    "*You'll notice that the dataset has 2 entries under 'Data variables', and that the only dimension is time.*"
   ]
  },
  {
   "cell_type": "markdown",
   "metadata": {},
   "source": [
    "You can use dictionary `key:value` syntax to access the values of data or coords in an xarray DataArray or Dataset. \n",
    "\n",
    "You can also use \"attribute\" syntax (e.g. `ds.temp`), but this may not always provide as much flexibility if you're trying to manipulate the data.\n",
    "\n",
    "For example:"
   ]
  },
  {
   "cell_type": "code",
   "execution_count": null,
   "metadata": {},
   "outputs": [],
   "source": [
    "# display the temp data from this ds\n",
    "ds['temp']\n",
    "\n",
    "# or: ds.temp\n",
    "\n",
    "# Notice how ds['temp'] is type 'xarray.DataArray', that's because a dataset is just a collection of dataArrays."
   ]
  },
  {
   "cell_type": "markdown",
   "metadata": {},
   "source": [
    "### Multidimensional Dataset"
   ]
  },
  {
   "cell_type": "markdown",
   "metadata": {},
   "source": [
    "Xarray’s real potential comes with multidimensional data.\n",
    "\n",
    "Let's load data from a netCDF file into an xarray dataset. \n",
    "\n",
    "*(This would be the main way you'll be interacting with datasets. These netCDF (.nc) files, are one of the most common filetypes for storing gridded climate data and/or climate model output.)*"
   ]
  },
  {
   "cell_type": "code",
   "execution_count": null,
   "metadata": {},
   "outputs": [],
   "source": [
    "# here we are using the xr.open_dataset() function to open some maximum global temperature data from 2018\n",
    "ds_in = xr.open_dataset('/home/jovyan/shared/GEOG60/pythontutorials/tutorialdata/tasmax_2018.nc')\n",
    "ds_in"
   ]
  },
  {
   "cell_type": "markdown",
   "metadata": {},
   "source": [
    "**TRY IT:** Take a moment to click through the dataset and familiarize yourself with its dimensions, coords, and data variables. Can you figure out the spatial and temporal grain of the data (in other words, the size of a grid cell in lat and lon coordinates and the length of one 'timestep'?"
   ]
  },
  {
   "cell_type": "code",
   "execution_count": null,
   "metadata": {},
   "outputs": [],
   "source": []
  },
  {
   "cell_type": "markdown",
   "metadata": {},
   "source": [
    "### Coordinates vs. Data Variables"
   ]
  },
  {
   "cell_type": "markdown",
   "metadata": {},
   "source": [
    "Data variables can be modified through arithmentic operations or other functions. **Coordinates are always keept the same.** This will be very helpful and important when we get to performing computations with Xarray data.\n",
    "\n",
    "For example:"
   ]
  },
  {
   "cell_type": "code",
   "execution_count": null,
   "metadata": {},
   "outputs": [],
   "source": [
    "ds_in * 1000"
   ]
  },
  {
   "cell_type": "markdown",
   "metadata": {},
   "source": [
    "*Notice how the values on `mx2t` have changed, but nothing else has!*"
   ]
  },
  {
   "cell_type": "markdown",
   "metadata": {},
   "source": [
    "Let's rename the 'mx2t' data variable to something a bit more descriptive."
   ]
  },
  {
   "cell_type": "code",
   "execution_count": null,
   "metadata": {},
   "outputs": [],
   "source": [
    "# NOTE: any changes you make to your dataArray/dataset (such as ds_in * 1000 above)\n",
    "# will NOT be saved unless you use the assignment operator.\n",
    "\n",
    "ds_in = ds_in.rename({'mx2t':'Tmax'}) # here we overwrite the old ds with a new one, renaming mx2t to Tmax.\n",
    "ds_in"
   ]
  },
  {
   "cell_type": "markdown",
   "metadata": {},
   "source": [
    "---\n",
    "<a id='section3'></a>\n",
    "# Selecting Data (Indexing)\n",
    "---"
   ]
  },
  {
   "cell_type": "markdown",
   "metadata": {},
   "source": [
    "We can always use regular numpy indexing and slicing on DataArrays:"
   ]
  },
  {
   "cell_type": "code",
   "execution_count": null,
   "metadata": {},
   "outputs": [],
   "source": [
    "ds_in.Tmax[:, 5, 18] # this would be selecting all times, lat at index location 5, and lon at index loc 18\n",
    "\n",
    "# note that the result only has the dimension 'time'"
   ]
  },
  {
   "cell_type": "code",
   "execution_count": null,
   "metadata": {},
   "outputs": [],
   "source": [
    "# ...and here we are plotting the max temp for that lat, lon cell\n",
    "ds_in.Tmax[:, 5, 18].plot()"
   ]
  },
  {
   "cell_type": "code",
   "execution_count": null,
   "metadata": {},
   "outputs": [],
   "source": [
    "# alternatively:\n",
    "ds_in.Tmax[4, :, :].plot()"
   ]
  },
  {
   "cell_type": "markdown",
   "metadata": {},
   "source": [
    "However, it is often much more powerful to use xarray’s `.sel()` method to use ***label-based indexing.***\n",
    "\n",
    "*This is part of what makes xarray so useful!*"
   ]
  },
  {
   "cell_type": "code",
   "execution_count": null,
   "metadata": {},
   "outputs": [],
   "source": [
    "# Let's just select data for the date 7/31/18, and save that in a new var sel_731\n",
    "sel_731 = ds_in.sel(time='2018-07-31')\n",
    "sel_731"
   ]
  },
  {
   "cell_type": "code",
   "execution_count": null,
   "metadata": {},
   "outputs": [],
   "source": [
    "sel_731.Tmax.plot()"
   ]
  },
  {
   "cell_type": "markdown",
   "metadata": {},
   "source": [
    "*Note: as we showed in the practical, you don't even need to know the exact coordinates of the data you're selecting! If you wanted to just select the data closest to 7/25, you could write:*\n",
    "\n",
    "```python\n",
    "ds_in.sel(time='2018-07-25', method='nearest')\n",
    "```\n",
    "\n",
    "*Handy.*"
   ]
  },
  {
   "cell_type": "markdown",
   "metadata": {},
   "source": [
    "`.sel()` also supports slicing. Unfortunately we have to use a somewhat awkward syntax, but it still works."
   ]
  },
  {
   "cell_type": "code",
   "execution_count": null,
   "metadata": {},
   "outputs": [],
   "source": [
    "ds_in"
   ]
  },
  {
   "cell_type": "code",
   "execution_count": null,
   "metadata": {},
   "outputs": [],
   "source": [
    "# how many months worth of data have we selected here?\n",
    "# try executing the code below. \n",
    "\n",
    "ds_in.sel(time=slice('2018-07-31', '2018-11-30'))"
   ]
  },
  {
   "cell_type": "code",
   "execution_count": null,
   "metadata": {},
   "outputs": [],
   "source": [
    "# maybe we want to just look at the max temp in the northern hemisphere for july\n",
    "n_hemis_toplot = ds_in.Tmax.sel(latitude=slice(90, 0), time='2018-07-31')\n",
    "n_hemis_toplot.plot()"
   ]
  },
  {
   "cell_type": "markdown",
   "metadata": {},
   "source": [
    "When slicing, the order of the values in your coordinates matters! What would happen if you tried to sel:\n",
    "```python\n",
    "n_hemis_toplot = ds_in.Tmax.sel(latitude=slice(0, 90), time='2018-07-31')\n",
    "```\n",
    "\n",
    "Any ideas why?"
   ]
  },
  {
   "cell_type": "code",
   "execution_count": null,
   "metadata": {},
   "outputs": [],
   "source": [
    "# try it here:\n"
   ]
  },
  {
   "cell_type": "markdown",
   "metadata": {},
   "source": [
    "<a id='section4'></a>\n",
    "\n",
    "---\n",
    "# Computation with Xarray objects\n",
    "---"
   ]
  },
  {
   "cell_type": "markdown",
   "metadata": {},
   "source": [
    "As previously mentioned, Xarray dataarrays and datasets work seamlessly with arithmetic operators and numpy array functions.\n",
    "\n",
    "Say we wanted to convert our max temps (which are currently in Kelvin) to C."
   ]
  },
  {
   "cell_type": "code",
   "execution_count": null,
   "metadata": {},
   "outputs": [],
   "source": [
    "temp_C = ds_in.Tmax - 273.15\n",
    "temp_C\n",
    "\n",
    "# coords stay unchanged!"
   ]
  },
  {
   "cell_type": "markdown",
   "metadata": {},
   "source": [
    "We can also combine multiple xarray datasets / dataArrays in arithemtic operations:"
   ]
  },
  {
   "cell_type": "code",
   "execution_count": null,
   "metadata": {},
   "outputs": [],
   "source": [
    "# let's get difference in temp from july to december\n",
    "summer_da = ds_in.Tmax.sel(time='2018-07-31')\n",
    "winter_da = ds_in.Tmax.sel(time='2018-12-31')\n",
    "\n",
    "diff_da = (summer_da - winter_da)\n",
    "diff_da"
   ]
  },
  {
   "cell_type": "code",
   "execution_count": null,
   "metadata": {},
   "outputs": [],
   "source": [
    "# surprise surprise, it was warmer in the July in the northern hemipshere, and\n",
    "# vice-versa for the southern hemisphere\n",
    "diff_da.plot()"
   ]
  },
  {
   "cell_type": "markdown",
   "metadata": {},
   "source": [
    "This is particularly useful when you have various data variables. For instance, you may want to compute Q = P - ET by subtracting some ET dataset from some Precip dataset that you're working with."
   ]
  },
  {
   "cell_type": "markdown",
   "metadata": {},
   "source": [
    "<a id='section5'></a>\n",
    "\n",
    "---\n",
    "# Reductions\n",
    "---"
   ]
  },
  {
   "cell_type": "markdown",
   "metadata": {},
   "source": [
    "Just like in numpy, we can reduce xarray DataArrays along any number of axes.\n",
    "\n",
    "Typically when we reduce something, we take the mean, min/max, sum, etc. across a given dimension. \n",
    "\n",
    "These are all very easy to do in xarray using the built-in methods `mean()`, `min()`, `max()`, etc. "
   ]
  },
  {
   "cell_type": "code",
   "execution_count": null,
   "metadata": {},
   "outputs": [],
   "source": [
    "# Let's look at the globe's average max temperature profile for July '18 as it varies by latitude:\n",
    "\n",
    "# we selected data for july above in summer_da,\n",
    "# use the '.mean()' function and specify which dimension we want to REDUCE i.e. take the mean across:\n",
    "summer_da.mean(dim='longitude')"
   ]
  },
  {
   "cell_type": "markdown",
   "metadata": {},
   "source": [
    "Notice how we're now only left with the latitude dimension after selecting for time and reducing along the lat dimension. Let's visualize this below:"
   ]
  },
  {
   "cell_type": "code",
   "execution_count": null,
   "metadata": {},
   "outputs": [],
   "source": [
    "summer_da.mean(dim='longitude').plot()\n",
    "\n",
    "# on average across the globe, max temps are higher in the northern hemisphere which makes sense since it's N. Hemisphere summer"
   ]
  },
  {
   "cell_type": "markdown",
   "metadata": {},
   "source": [
    "What if we wanted to make a map of the max Tmax across the year for each grid point? Which dimension would we reduce across? Try to fill in the code below."
   ]
  },
  {
   "cell_type": "code",
   "execution_count": null,
   "metadata": {},
   "outputs": [],
   "source": [
    "# fill in the 'dims' argument(s) below!\n",
    "max_tmax_da = ds_in.Tmax.max() # <-- FILL HERE\n",
    "\n",
    "# verify by plotting\n",
    "max_tmax_da.plot()"
   ]
  },
  {
   "cell_type": "markdown",
   "metadata": {},
   "source": [
    "### Weighted Reductions"
   ]
  },
  {
   "cell_type": "markdown",
   "metadata": {},
   "source": [
    "Sometimes we want to perform a reduction (e.g. a mean) where we assign different weight factors to each point in the array. Xarray supports this via [weighted array reductions](https://docs.xarray.dev/en/stable/user-guide/computation.html#weighted-array-reductions).\n",
    "\n"
   ]
  },
  {
   "cell_type": "markdown",
   "metadata": {},
   "source": [
    "For example, you may want to weight by the cosine of latitude when taking a global mean to account for differences in grid cell size (lines of longitude get closer and closer the further away you get from the equator, meaning cells are all different sizes!)"
   ]
  },
  {
   "cell_type": "code",
   "execution_count": null,
   "metadata": {},
   "outputs": [],
   "source": [
    "# make lat weights\n",
    "latweights = np.cos(np.deg2rad(ds_in.latitude)) # taking the lat dim of the dataset, putting it in radians, taking the cosine\n",
    "latweights.plot() # visualize lat weights"
   ]
  },
  {
   "cell_type": "code",
   "execution_count": null,
   "metadata": {},
   "outputs": [],
   "source": [
    "# then take the weighted mean: \n",
    "tmax_weighted_globalmean = ds_in.Tmax.weighted(latweights).mean(dim=['latitude', 'longitude']) # note the .weighted() method where you supply your weights as an argument.\n",
    "tmax_weighted_globalmean"
   ]
  },
  {
   "cell_type": "code",
   "execution_count": null,
   "metadata": {},
   "outputs": [],
   "source": [
    "# plot, comparing to unweighted\n",
    "tmax_unweighted_globalmean = ds_in.Tmax.mean(dim=['latitude', 'longitude']) # note the .weighted() method where you supply your weights as an argument.\n",
    "\n",
    "\n",
    "# plot:\n",
    "fig, ax = plt.subplots()\n",
    "\n",
    "tmax_weighted_globalmean.plot(ax=ax, label='lat weights')\n",
    "tmax_unweighted_globalmean.plot(ax=ax, label='unweighted')\n",
    "\n",
    "ax.legend()"
   ]
  },
  {
   "cell_type": "markdown",
   "metadata": {},
   "source": [
    "<a id='section6'></a>\n",
    "\n",
    "---\n",
    "# Loading Data from netCDF Files\n",
    "---"
   ]
  },
  {
   "cell_type": "markdown",
   "metadata": {},
   "source": [
    "NetCDF (Network Common Data Format) is the most widely used format for distributing geoscience data. NetCDF is maintained by the Unidata organization.\n",
    "\n",
    "From the NetCDF website:"
   ]
  },
  {
   "cell_type": "markdown",
   "metadata": {},
   "source": [
    "> NetCDF (network Common Data Form) is a set of interfaces for array-oriented data access and a freely distributed collection of data access libraries for C, Fortran, C++, Java, and other languages. The netCDF libraries support a machine-independent format for representing scientific data. Together, the interfaces, libraries, and format support the creation, access, and sharing of scientific data. NetCDF data is:\n",
    "- Self-Describing. A netCDF file includes information about the data it contains.\n",
    "- Portable. A netCDF file can be accessed by computers with different ways of storing integers, characters, and floating-point numbers.\n",
    "- Scalable. A small subset of a large dataset may be accessed efficiently.\n",
    "- Appendable. Data may be appended to a properly structured netCDF file without copying the dataset or redefining its structure.\n",
    "- Sharable. One writer and multiple readers may simultaneously access the same netCDF file.\n",
    "- Archivable. Access to all earlier forms of netCDF data will be supported by current and future versions of the software."
   ]
  },
  {
   "cell_type": "markdown",
   "metadata": {},
   "source": [
    "Xarray was designed to make reading netCDF files in python as easy, powerful, and flexible as possible. (See [xarray netCDF docs](https://docs.xarray.dev/en/latest/user-guide/io.html#netcdf) for more details.)"
   ]
  },
  {
   "cell_type": "markdown",
   "metadata": {},
   "source": [
    "As mentioned above, the syntax is as follows:\n",
    "\n",
    "```python\n",
    "ds = xr.open_dataset('path_to_your_file.nc')\n",
    "```"
   ]
  },
  {
   "cell_type": "markdown",
   "metadata": {},
   "source": [
    "<a id='section7'></a>\n",
    "\n",
    "---\n",
    "# RECAP\n",
    "---"
   ]
  },
  {
   "cell_type": "markdown",
   "metadata": {},
   "source": [
    "## ...So, to recap:\n",
    "\n",
    "Xarray is one of our best tools for viewing and manipulating gridded climate data.\n",
    "\n",
    "Xarray has:\n",
    "- `data` / variables: the numerical data representing whatever var/quantity you are interested in\n",
    "- `dimensions`: names for each axis of the data -- ex. you could have some 3-d data with dims lat, lon, and time\n",
    "- `coordinates`: the actual VALUES that correspond to the 'dimensions' above. So for lat, your coordinates could be [0, 0.5, 1, 1.5, 2, ...] which would correspond to those degrees of latitude in the data.\n",
    "- `attributes`: metadata such as units, data description, version history, etc.\n",
    "\n",
    "Data are organized in DataArrays or Datasets, which provide fancy labels over numpy arrays.\n",
    "\n",
    "These labels allow for powerful indexing, slicing, computations, and reduction operations.\n",
    "\n",
    "Data are typically stored in netCDF (.nc) file format. \n",
    "\n",
    "Xarray has tons of built in methods which make life easy!"
   ]
  },
  {
   "cell_type": "markdown",
   "metadata": {},
   "source": [
    "<a id='section8'></a>\n",
    "\n",
    "---\n",
    "# Exercises\n",
    "---"
   ]
  },
  {
   "cell_type": "markdown",
   "metadata": {},
   "source": [
    "1. Open the file provided at the path below, saving it into the var `ds_2`.\n",
    "2. What are the dimensions, coordinates, and data variables of the data? What climate model does this data come from?\n",
    "3. What is the spatial and temporal grain/resolution?\n",
    "4. Select Precip data for March 15, 2011.\n",
    "5. Create a global mean precipitation timeseries from the data. **Challenge:** Weight your global mean by cosine of latitude."
   ]
  },
  {
   "cell_type": "code",
   "execution_count": null,
   "metadata": {},
   "outputs": [],
   "source": [
    "# 1. \n",
    "# path = '/home/jovyan/shared/GEOG60/pythontutorials/tutorialdata/pr_Amon_CESM2-WACCM-FV2_historical_r1i1p1f1_gn_200001-201412.nc'\n"
   ]
  },
  {
   "cell_type": "code",
   "execution_count": null,
   "metadata": {},
   "outputs": [],
   "source": [
    "# 2. \n"
   ]
  },
  {
   "cell_type": "code",
   "execution_count": null,
   "metadata": {},
   "outputs": [],
   "source": [
    "# 3. \n"
   ]
  },
  {
   "cell_type": "code",
   "execution_count": null,
   "metadata": {},
   "outputs": [],
   "source": [
    "# 4\n"
   ]
  },
  {
   "cell_type": "code",
   "execution_count": null,
   "metadata": {},
   "outputs": [],
   "source": [
    "# 5\n"
   ]
  },
  {
   "cell_type": "markdown",
   "metadata": {},
   "source": [
    "---\n",
    "# Further Resources\n",
    "---"
   ]
  },
  {
   "cell_type": "markdown",
   "metadata": {},
   "source": [
    "There are tons of other things you can do with Xarray. When in doubt, google it or look on the Xarray Documentation!\n",
    "\n",
    "- [Xarray Docs](https://docs.xarray.dev/en/latest/index.html)\n",
    "- [Xarray Fundamentals (tutorial)](https://earth-env-data-science.github.io/lectures/xarray/xarray.html#xarray-fundamentals)\n",
    "- [Xarray Tutorial - Pangeo Gallery](https://gallery.pangeo.io/repos/pangeo-data/pangeo-tutorial-gallery/xarray.html)"
   ]
  }
 ],
 "metadata": {
  "kernelspec": {
   "display_name": "Python nvas311",
   "language": "python",
   "name": "nvas311"
  },
  "language_info": {
   "codemirror_mode": {
    "name": "ipython",
    "version": 3
   },
   "file_extension": ".py",
   "mimetype": "text/x-python",
   "name": "python",
   "nbconvert_exporter": "python",
   "pygments_lexer": "ipython3",
   "version": "3.8.2"
  }
 },
 "nbformat": 4,
 "nbformat_minor": 2
}
