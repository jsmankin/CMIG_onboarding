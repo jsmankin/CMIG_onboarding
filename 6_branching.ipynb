{
 "cells": [
  {
   "cell_type": "markdown",
   "metadata": {},
   "source": [
    "# **CMIG - Python Tutorials**"
   ]
  },
  {
   "cell_type": "markdown",
   "metadata": {},
   "source": [
    "*The idea of this notebook is for you to read through the text and execute each cell as you go along, filling in commands/blocks of code as necessary. This is intended for people with little to no programming / python experience. If this is review for you, feel free to skim through it.*  "
   ]
  },
  {
   "cell_type": "markdown",
   "metadata": {},
   "source": [
    "# Programming: Branching (If-Statements)"
   ]
  },
  {
   "cell_type": "markdown",
   "metadata": {},
   "source": [
    "***This notebook will be easiest to understand if you have already completed the logical expressions / operators tutorial!***"
   ]
  },
  {
   "cell_type": "markdown",
   "metadata": {},
   "source": [
    "OUTLINE:\n",
    "- Branching\n",
    "- Exercises\n",
    "- Additional resources"
   ]
  },
  {
   "cell_type": "markdown",
   "metadata": {},
   "source": [
    "---\n",
    "### Branching Statements (If-Else)\n",
    "--- "
   ]
  },
  {
   "cell_type": "markdown",
   "metadata": {},
   "source": [
    "Logical expressions and operators can come in handy when combined with **branching statements** (also known as If-Else Statements or If-Statements). These statements control the flow of your code by only executing certain blocks of code if specific conditions are met.\n",
    "\n",
    "For example:"
   ]
  },
  {
   "cell_type": "code",
   "execution_count": null,
   "metadata": {},
   "outputs": [],
   "source": [
    "b = 10\n",
    "\n",
    "if b > 4:\n",
    "    print('b is greater than 4!')"
   ]
  },
  {
   "cell_type": "markdown",
   "metadata": {},
   "source": [
    "When Python sees an if-statement, it will evaluate if the associated logical expression is True. If True, then the code in the below code block will be executed. If False, then the code will not be executed.\n",
    "\n",
    "For the syntax to work, you need to end your if statements with a colon `:`, and indent the associated code block below!"
   ]
  },
  {
   "cell_type": "markdown",
   "metadata": {},
   "source": [
    "You can chain multiple if-statements together using `if`, `elif`, and `else`. For example:"
   ]
  },
  {
   "cell_type": "code",
   "execution_count": null,
   "metadata": {},
   "outputs": [],
   "source": [
    "temp = 31.5\n",
    "\n",
    "if temp > 32:                   # \"if temp is larger than 32...\"\n",
    "    print('Liquid water')       # \"... print the string 'Liquid water'\"\n",
    "else:                           # \"... otherwise...\"\n",
    "    print('Ice')                # \"... print the string 'Ice'\""
   ]
  },
  {
   "cell_type": "markdown",
   "metadata": {},
   "source": [
    "Another example:"
   ]
  },
  {
   "cell_type": "code",
   "execution_count": null,
   "metadata": {},
   "outputs": [],
   "source": [
    "temp = 51\n",
    "humidity = 80"
   ]
  },
  {
   "cell_type": "markdown",
   "metadata": {},
   "source": [
    "Is temperature > 50°F *and* humidity equal 80%?"
   ]
  },
  {
   "cell_type": "code",
   "execution_count": null,
   "metadata": {},
   "outputs": [],
   "source": [
    "if (temp > 50) and (humidity == 80):\n",
    "    print('True')\n",
    "else:\n",
    "    print('False')"
   ]
  },
  {
   "cell_type": "markdown",
   "metadata": {},
   "source": [
    "If there's more than one `else` statement, one needs to use else-if statements `elif` to grow the list of conditions."
   ]
  },
  {
   "cell_type": "code",
   "execution_count": null,
   "metadata": {},
   "outputs": [],
   "source": [
    "if (temp > 50) and (humidity != 80):\n",
    "    print('Only temperature')\n",
    "elif (temp <= 50) and (humidity == 80):\n",
    "    print('Only humidity')\n",
    "elif (temp <= 50) and (humidity != 80):\n",
    "    print('Neither')\n",
    "else:\n",
    "    print('Both')"
   ]
  },
  {
   "cell_type": "markdown",
   "metadata": {},
   "source": [
    "*Note: Python evaluates these `if`... `elif`... `else`... statements in order as they are written. Once a True branching statement is identified, Python will execute the code block below and the if-statement will end. If none of the statements are true, then Python will execute the code under `else`.*"
   ]
  },
  {
   "cell_type": "markdown",
   "metadata": {},
   "source": [
    "Is temperature between 45°C and 55°C?"
   ]
  },
  {
   "cell_type": "code",
   "execution_count": null,
   "metadata": {},
   "outputs": [],
   "source": [
    "if 55 > temp > 45:\n",
    "    print('True')\n",
    "else:\n",
    "    print('False')"
   ]
  },
  {
   "cell_type": "markdown",
   "metadata": {},
   "source": [
    "##### **TRY IT:** \n",
    "What will the value of `y` be after the following code is executed?"
   ]
  },
  {
   "cell_type": "markdown",
   "metadata": {},
   "source": [
    "```python \n",
    "x = 3\n",
    "if x > 1:\n",
    "    y = 2\n",
    "elif x > 2:\n",
    "    y = 4\n",
    "else:\n",
    "    y = 0\n",
    "print(y)\n",
    "```"
   ]
  },
  {
   "cell_type": "markdown",
   "metadata": {},
   "source": [
    "Would the value of `y` change after this slight tweak to the original code?\n",
    "\n",
    "```python\n",
    "x = 3\n",
    "if x > 1:\n",
    "    y = 2\n",
    "if x > 2:\n",
    "    y = 4\n",
    "else:\n",
    "    y = 0\n",
    "print(y)\n",
    "```"
   ]
  },
  {
   "cell_type": "markdown",
   "metadata": {},
   "source": [
    "You can also *nest* if-statements, for example:"
   ]
  },
  {
   "cell_type": "code",
   "execution_count": 8,
   "metadata": {},
   "outputs": [
    {
     "name": "stdout",
     "output_type": "stream",
     "text": [
      "both are greater than 2!\n"
     ]
    }
   ],
   "source": [
    "x = 3\n",
    "y = 4\n",
    "\n",
    "if x > 2:                                     # a\n",
    "    if y > 2:                                 # b\n",
    "        print('both are greater than 2!')\n",
    "    else:\n",
    "        print('x greater but y less.')\n",
    "else:\n",
    "    print('x less')"
   ]
  },
  {
   "cell_type": "markdown",
   "metadata": {},
   "source": [
    "*Of course, the two if-statements in lines a and b of this example could be combined using the and operator, but nested if-statements can come in handy.*"
   ]
  },
  {
   "cell_type": "markdown",
   "metadata": {},
   "source": [
    "---\n",
    "### Exercises\n",
    "---"
   ]
  },
  {
   "cell_type": "markdown",
   "metadata": {},
   "source": [
    "1. Consider var's `a = 10`, `b = 15`. Write code to print \"B greater\" if b is greater than a.\n",
    "2. For the same var's a and b, print \"equals\" if a and b have the same value, or print \"A greater\" if a is greater than b. \n",
    "3. Use if-else statements to write the following sentences as code. \"If c is a string, print 'string'. If c is an integer, print 'int'. If c is a number greater than 5, compute c / 2 and print the result. Otherwise, print 'c less than 5'. If c is not a float or string, print 'neither'. \"  "
   ]
  },
  {
   "cell_type": "code",
   "execution_count": null,
   "metadata": {},
   "outputs": [],
   "source": [
    "# 1. \n"
   ]
  },
  {
   "cell_type": "code",
   "execution_count": null,
   "metadata": {},
   "outputs": [],
   "source": [
    "# 2. \n"
   ]
  },
  {
   "cell_type": "code",
   "execution_count": null,
   "metadata": {},
   "outputs": [],
   "source": [
    "# 3.\n"
   ]
  },
  {
   "cell_type": "markdown",
   "metadata": {},
   "source": [
    "---\n",
    "### Additional Resources\n",
    "---"
   ]
  },
  {
   "cell_type": "markdown",
   "metadata": {},
   "source": [
    "[Python Numerical Methods - If-Else Statements](https://pythonnumericalmethods.berkeley.edu/notebooks/chapter04.01-If-Else-Statements.html)\n",
    "\n",
    "[Python If ... Else - w3schools](https://www.w3schools.com/python/python_conditions.asp)"
   ]
  }
 ],
 "metadata": {
  "kernelspec": {
   "display_name": "Python nvas311",
   "language": "python",
   "name": "nvas311"
  },
  "language_info": {
   "codemirror_mode": {
    "name": "ipython",
    "version": 3
   },
   "file_extension": ".py",
   "mimetype": "text/x-python",
   "name": "python",
   "nbconvert_exporter": "python",
   "pygments_lexer": "ipython3",
   "version": "3.8.2"
  }
 },
 "nbformat": 4,
 "nbformat_minor": 2
}
