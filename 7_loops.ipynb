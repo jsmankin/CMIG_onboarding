{
 "cells": [
  {
   "cell_type": "markdown",
   "metadata": {},
   "source": [
    "# **CMIG - Python Tutorials**"
   ]
  },
  {
   "cell_type": "markdown",
   "metadata": {},
   "source": [
    "*The idea of this notebook is for you to read through the text and execute each cell as you go along, filling in commands/blocks of code as necessary. This is intended for people with little to no programming / python experience. If this is review for you, feel free to skim through it.*  "
   ]
  },
  {
   "cell_type": "markdown",
   "metadata": {},
   "source": [
    "# Programming: Loops"
   ]
  },
  {
   "cell_type": "markdown",
   "metadata": {},
   "source": [
    "OUTLINE:\n",
    "- Iteration\n",
    "    - For-Loops\n",
    "    - While-Loops\n",
    "- Exercises\n",
    "- Additional resources"
   ]
  },
  {
   "cell_type": "markdown",
   "metadata": {},
   "source": [
    "---\n",
    "### Iteration (For-Loops)\n",
    "---"
   ]
  },
  {
   "cell_type": "markdown",
   "metadata": {},
   "source": [
    "**Loops** help us repeat blocks of code without having to write them over and over again.\n",
    "\n",
    "A **for-loop** is a set of instructions that is repeated, or iterated, for every value in a sequence. Sometimes for-loops are referred to as **definite loops** because they have a predefined beginning and end as bounded by the sequence."
   ]
  },
  {
   "cell_type": "markdown",
   "metadata": {},
   "source": [
    "The general for-loop syntax is as follows. Again, remember to include a colon and to indent the subsequent code block!"
   ]
  },
  {
   "cell_type": "markdown",
   "metadata": {},
   "source": [
    "```python\n",
    "for looping variable in sequence:\n",
    "    code block\n",
    "```"
   ]
  },
  {
   "cell_type": "code",
   "execution_count": null,
   "metadata": {},
   "outputs": [],
   "source": [
    "storms = ['Elsa', 'Grace', 'Henri', 'Ida'] # list of strings\n",
    "for x in storms:                           # note the colon\n",
    "    print(x)                               # note the indent"
   ]
  },
  {
   "cell_type": "markdown",
   "metadata": {},
   "source": [
    "`for loops` also work if you just provide one (1) argument to loop over."
   ]
  },
  {
   "cell_type": "code",
   "execution_count": null,
   "metadata": {},
   "outputs": [],
   "source": [
    "for x in ['Elsa']:\n",
    "    print(x)"
   ]
  },
  {
   "cell_type": "markdown",
   "metadata": {},
   "source": [
    "However, if the argument is a string rather than a list (no `[ ]`), it will loop over elements of the string."
   ]
  },
  {
   "cell_type": "code",
   "execution_count": null,
   "metadata": {},
   "outputs": [],
   "source": [
    "for x in 'Elsa':\n",
    "    print(x)"
   ]
  },
  {
   "cell_type": "markdown",
   "metadata": {},
   "source": [
    "You can use the `range()` function to create a range of integers to then loop over. Note, `range()` starts at the first number provided and ends at the last *minus* 1."
   ]
  },
  {
   "cell_type": "code",
   "execution_count": null,
   "metadata": {},
   "outputs": [],
   "source": [
    "for x in range(0,6):\n",
    "    print(x)"
   ]
  },
  {
   "cell_type": "markdown",
   "metadata": {},
   "source": [
    "If you just provide one number to `range()`, it will assume you want to start at 0. In other words, `range(6)` = `range(0,6)`"
   ]
  },
  {
   "cell_type": "code",
   "execution_count": null,
   "metadata": {},
   "outputs": [],
   "source": [
    "for x in range(6):\n",
    "    print(x)"
   ]
  },
  {
   "cell_type": "markdown",
   "metadata": {},
   "source": [
    "`range()` can also produce a range of integers with a certain increment (for example 3):"
   ]
  },
  {
   "cell_type": "code",
   "execution_count": null,
   "metadata": {},
   "outputs": [],
   "source": [
    "for x in range(2, 30, 3): # the arg's here work like the np.arange() function\n",
    "    print(x)"
   ]
  },
  {
   "cell_type": "markdown",
   "metadata": {},
   "source": [
    "#### While Loops"
   ]
  },
  {
   "cell_type": "markdown",
   "metadata": {},
   "source": [
    "If you want to run a loop without knowing how many iterations you'll need, you can use something called a **while loop**. While loop syntax looks like this:\n",
    "\n",
    "```python\n",
    "while condition true:\n",
    "    code block\n",
    "```\n",
    "\n",
    "At the beginning of each loop, python will evaluate the condition. If the condition is still true, then another iteration will be executed. Otherwise, the loop will end. "
   ]
  },
  {
   "cell_type": "code",
   "execution_count": null,
   "metadata": {},
   "outputs": [],
   "source": [
    "# ex.\n",
    "\n",
    "# initialize 'i'\n",
    "i = 0\n",
    "\n",
    "# while loop\n",
    "while i < 10:\n",
    "    \n",
    "    # print value of i\n",
    "    print('i equals %d' %i) # this code prints the following text, replacing\n",
    "                            # %d with the value of the variable 'i'\n",
    "        \n",
    "    # update value of i **IMPORTANT!**\n",
    "    i = i+1"
   ]
  },
  {
   "cell_type": "markdown",
   "metadata": {},
   "source": [
    "*Beware - you can end up stuck in an infinite loop if your 'while' condition never becomes False! For example, if I didn't have that line of code updating i's value, this loop would run forever. If you get stuck in an infinite loop, you should click the square / stop button at the top of your notebook.*"
   ]
  },
  {
   "cell_type": "markdown",
   "metadata": {},
   "source": [
    "---\n",
    "### Exercises\n",
    "---"
   ]
  },
  {
   "cell_type": "markdown",
   "metadata": {},
   "source": [
    "1. Write a for loop that repeats 10 times, printing the loop number * 10 after each loop.\n",
    "2. Find out what happens if you misformat a for loop, both by forgetting to indent and forgetting to include a colon.\n",
    "3. What will the value of y be after the following code is executed?\n",
    "\n",
    "```python\n",
    "y = 0\n",
    "for i in range(1000):\n",
    "    for j in range(1000):\n",
    "        if i==j:\n",
    "            y +=1\n",
    "```"
   ]
  },
  {
   "cell_type": "code",
   "execution_count": null,
   "metadata": {},
   "outputs": [],
   "source": [
    "# 1.\n"
   ]
  },
  {
   "cell_type": "code",
   "execution_count": null,
   "metadata": {},
   "outputs": [],
   "source": [
    "# 2. a. \n"
   ]
  },
  {
   "cell_type": "code",
   "execution_count": null,
   "metadata": {},
   "outputs": [],
   "source": [
    "# 2. b. \n"
   ]
  },
  {
   "cell_type": "code",
   "execution_count": null,
   "metadata": {},
   "outputs": [],
   "source": [
    "# 3.\n"
   ]
  },
  {
   "cell_type": "markdown",
   "metadata": {},
   "source": [
    "---\n",
    "### Additional Resources\n",
    "---"
   ]
  },
  {
   "cell_type": "markdown",
   "metadata": {},
   "source": [
    "[Python Numerical Methods - For-Loops](https://pythonnumericalmethods.berkeley.edu/notebooks/chapter05.01-For-Loops.html)\n",
    "\n",
    "[Python Numerical Methods - While Loops](https://pythonnumericalmethods.berkeley.edu/notebooks/chapter05.02-While-Loops.html)\n",
    "\n",
    "[Python For Loops - w3schools](https://www.w3schools.com/python/python_for_loops.asp)\n",
    "\n",
    "[Python Loop Exercises](https://pynative.com/python-if-else-and-for-loop-exercise-with-solutions/)"
   ]
  }
 ],
 "metadata": {
  "kernelspec": {
   "display_name": "Python nvas311",
   "language": "python",
   "name": "nvas311"
  },
  "language_info": {
   "codemirror_mode": {
    "name": "ipython",
    "version": 3
   },
   "file_extension": ".py",
   "mimetype": "text/x-python",
   "name": "python",
   "nbconvert_exporter": "python",
   "pygments_lexer": "ipython3",
   "version": "3.8.2"
  }
 },
 "nbformat": 4,
 "nbformat_minor": 2
}
