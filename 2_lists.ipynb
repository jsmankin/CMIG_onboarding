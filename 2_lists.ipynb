{
 "cells": [
  {
   "cell_type": "markdown",
   "metadata": {},
   "source": [
    "# **CMIG - Python Tutorials**"
   ]
  },
  {
   "cell_type": "markdown",
   "metadata": {},
   "source": [
    "*The idea of this notebook is for you to read through the text and execute each cell as you go along, filling in commands/blocks of code as necessary. This is intended for people with little to no programming / python experience. If this is review for you, feel free to skim through it.*  "
   ]
  },
  {
   "cell_type": "markdown",
   "metadata": {},
   "source": [
    "# Data Structures: Lists (and Tuples)"
   ]
  },
  {
   "cell_type": "markdown",
   "metadata": {},
   "source": [
    "Here you will learn how to create and manipulate some of Python’s most common variable types.\n",
    "\n",
    "\n",
    "OUTLINE:\n",
    "- Lists\n",
    "- Tuples\n",
    "- Exercises\n",
    "- Additional resources"
   ]
  },
  {
   "cell_type": "markdown",
   "metadata": {},
   "source": [
    "---\n",
    "### Lists\n",
    "---"
   ]
  },
  {
   "cell_type": "markdown",
   "metadata": {},
   "source": [
    "**Lists** in Python can store sequences of values. They are defined using a pair of brackets `[]`, and elements within each list are separated by commas. A list can hold any type of data: numerical, strings, or other types.\n",
    "\n",
    "Try running the following cells and displaying the values stored in `my_list` by running the command `print(my_list)`."
   ]
  },
  {
   "cell_type": "code",
   "execution_count": null,
   "metadata": {},
   "outputs": [],
   "source": [
    "# initialize an empty list\n",
    "my_list = [] \n",
    "\n",
    "# note how we are using the assignment operator ( = ) above to assign the empty list [] to the\n",
    "# variable my_list"
   ]
  },
  {
   "cell_type": "code",
   "execution_count": null,
   "metadata": {},
   "outputs": [],
   "source": [
    "# make a list of integers\n",
    "my_list = [1, 2, 3]"
   ]
  },
  {
   "cell_type": "code",
   "execution_count": null,
   "metadata": {},
   "outputs": [],
   "source": [
    "# a list with mixed datatypes (int, string, and float)\n",
    "my_list = [1, \"Hello\", 3.4]"
   ]
  },
  {
   "cell_type": "markdown",
   "metadata": {},
   "source": [
    "*Note: my_list element \"Hello\" is of datatype ***string***, which are sequences of characters designated by double or single quotes. In the python interpreter, strings are written in red while numbers are green. Strings are interpreted differently than numbers, for example writing:* `\"Hello\" + 5` *will get you an error because you are trying to add string and numerical data together.*"
   ]
  },
  {
   "cell_type": "code",
   "execution_count": null,
   "metadata": {},
   "outputs": [],
   "source": [
    "# nested list (list within a list)\n",
    "my_list = ['Hello', [8, 4, 7], 3.4]\n",
    "print(my_list)"
   ]
  },
  {
   "cell_type": "markdown",
   "metadata": {},
   "source": [
    "Lists have **indices** to indicate the location of each element so that we can easily find and select some element. The index starts with 0, as shown in the following picture.\n",
    "\n",
    "```python\n",
    "list_1 = [1, 2, 3, 'Apple', 'Orange']\n",
    "```"
   ]
  },
  {
   "cell_type": "markdown",
   "metadata": {},
   "source": [
    "<div>\n",
    "<img src=\"https://pythonnumericalmethods.berkeley.edu/_images/02.03.01-list_index.png\" width=\"500\"/>\n",
    "</div>"
   ]
  },
  {
   "cell_type": "markdown",
   "metadata": {},
   "source": [
    "*In Python (and many other programming languages), the index starts counting at 0. That is, the first element in the list is at index location 0.*"
   ]
  },
  {
   "cell_type": "markdown",
   "metadata": {},
   "source": [
    "To **retrieve elements in a list**, use a bracket and the index of the desired element. For example, if we wanted to produce 'Apple' from `list_1`, we would do:"
   ]
  },
  {
   "cell_type": "code",
   "execution_count": null,
   "metadata": {},
   "outputs": [],
   "source": [
    "# initialize list_1\n",
    "list_1 = [1, 2, 3, 'Apple', 'Orange']\n",
    "\n",
    "# produce 'Apple'\n",
    "print(list_1[3])"
   ]
  },
  {
   "cell_type": "markdown",
   "metadata": {},
   "source": [
    "*Note: the `print()` function is one of python's built-in function that prints values to the screen. We use it frequently to check the values of variables, etc.*\n",
    "\n",
    "*The code that selects 'Apple' from list_1 is* `list_1[3]`, *and that is inside the* `print()` *function so the `list_1[3]`'s value is printed to the screen*"
   ]
  },
  {
   "cell_type": "markdown",
   "metadata": {},
   "source": [
    "##### **TRY IT:** \n",
    "Produce the value `1` from `list_1`."
   ]
  },
  {
   "cell_type": "code",
   "execution_count": null,
   "metadata": {},
   "outputs": [],
   "source": [
    "# try it here\n"
   ]
  },
  {
   "cell_type": "markdown",
   "metadata": {},
   "source": [
    "You can also retrieve multiple values from a list using various methods. For example, consider `my_list` below. "
   ]
  },
  {
   "cell_type": "code",
   "execution_count": null,
   "metadata": {},
   "outputs": [],
   "source": [
    "my_list = ['p','r','o','g','r','a','m','m','i', 'n', 'g']"
   ]
  },
  {
   "cell_type": "markdown",
   "metadata": {},
   "source": [
    "Here is how to retrieve:"
   ]
  },
  {
   "cell_type": "markdown",
   "metadata": {},
   "source": [
    "...elements 3rd to 5th"
   ]
  },
  {
   "cell_type": "code",
   "execution_count": null,
   "metadata": {},
   "outputs": [],
   "source": [
    "print(my_list[2:5])"
   ]
  },
  {
   "cell_type": "markdown",
   "metadata": {},
   "source": [
    "...elements from beginning to 4th"
   ]
  },
  {
   "cell_type": "code",
   "execution_count": null,
   "metadata": {},
   "outputs": [],
   "source": [
    "# this is saying \"produce elements from list my_list up until index position 4\"\n",
    "print(my_list[:4])"
   ]
  },
  {
   "cell_type": "markdown",
   "metadata": {},
   "source": [
    "...elements 6th to end"
   ]
  },
  {
   "cell_type": "code",
   "execution_count": null,
   "metadata": {},
   "outputs": [],
   "source": [
    "print(my_list[5:])"
   ]
  },
  {
   "cell_type": "markdown",
   "metadata": {},
   "source": [
    "...last element"
   ]
  },
  {
   "cell_type": "code",
   "execution_count": null,
   "metadata": {},
   "outputs": [],
   "source": [
    "print(my_list[-1])"
   ]
  },
  {
   "cell_type": "markdown",
   "metadata": {},
   "source": [
    "...elements beginning to end"
   ]
  },
  {
   "cell_type": "code",
   "execution_count": null,
   "metadata": {},
   "outputs": [],
   "source": [
    "print(my_list[:])"
   ]
  },
  {
   "cell_type": "markdown",
   "metadata": {},
   "source": [
    "*In this indexing notation, the colon* `:` *stands for \"all\" or \"everything.\"*"
   ]
  },
  {
   "cell_type": "markdown",
   "metadata": {},
   "source": [
    "You can also use these indexing methods plus the assignment operator to **change elements** within lists."
   ]
  },
  {
   "cell_type": "code",
   "execution_count": null,
   "metadata": {},
   "outputs": [],
   "source": [
    "# change first element in my_list to uppercase P\n",
    "my_list[0] = 'P'\n",
    "\n",
    "print(my_list)"
   ]
  },
  {
   "cell_type": "markdown",
   "metadata": {},
   "source": [
    "##### **TRY IT:** \n",
    "Use one line of code to change `my_list` from \n",
    "\n",
    "`['P', 'r', 'o', 'g', 'r', 'a', 'm', 'm', 'i', 'n', 'g']` \n",
    "\n",
    "to \n",
    "\n",
    "`['P', 'r', 'o', 'g', 'r', 'a', 'm', 'm', 'e', 'r', 's']`."
   ]
  },
  {
   "cell_type": "code",
   "execution_count": null,
   "metadata": {},
   "outputs": [],
   "source": [
    "# write code to change my_list here:\n",
    "\n",
    "# print the result\n",
    "print(my_list)"
   ]
  },
  {
   "cell_type": "markdown",
   "metadata": {},
   "source": [
    "Using the `list()` function, we could turn other sequence items into a list."
   ]
  },
  {
   "cell_type": "code",
   "execution_count": null,
   "metadata": {},
   "outputs": [],
   "source": [
    "list('Hello World')"
   ]
  },
  {
   "cell_type": "markdown",
   "metadata": {},
   "source": [
    "There are many other functions that can be used to manipulate lists which can be found below. You would use the `listname.method()` syntax to perform these functions."
   ]
  },
  {
   "cell_type": "code",
   "execution_count": null,
   "metadata": {},
   "outputs": [],
   "source": [
    "# ex:\n",
    "\n",
    "my_list.count('m')\n",
    "\n",
    "# so here, the list is called my_list, the method or function is count(), and the argument is 'm'.\n",
    "# this is like saying, \"count all the instances of 'm' in my_list\""
   ]
  },
  {
   "cell_type": "markdown",
   "metadata": {},
   "source": [
    "<div>\n",
    "<img src=\"https://res.cloudinary.com/dyd911kmh/image/upload/f_auto,q_auto:best/v1592084676/list3_ldpeim.png\" width=\"700\"/>\n",
    "</div>"
   ]
  },
  {
   "cell_type": "markdown",
   "metadata": {},
   "source": [
    "---\n",
    "### Tuples\n",
    "---"
   ]
  },
  {
   "cell_type": "markdown",
   "metadata": {},
   "source": [
    "Tuples are very similar to lists, but are defined using a pair of parentheses `()`. The main things to know about tuples is that unlike lists, they are **immutable**, meaning that once a tuple's elements are defined, they can't be changed. Tuples and lists are typically used for different purposes by programmers, but for now, this is probably about all we need to know about them."
   ]
  },
  {
   "cell_type": "code",
   "execution_count": null,
   "metadata": {},
   "outputs": [],
   "source": [
    "# here is a tuple.\n",
    "tup1 = (1, 3, 4)\n",
    "print(tup1)"
   ]
  },
  {
   "cell_type": "code",
   "execution_count": null,
   "metadata": {},
   "outputs": [],
   "source": [
    "type(tup1)"
   ]
  },
  {
   "cell_type": "code",
   "execution_count": null,
   "metadata": {},
   "outputs": [],
   "source": [
    "# I can index them the same as a list\n",
    "tup1[1:]"
   ]
  },
  {
   "cell_type": "code",
   "execution_count": null,
   "metadata": {},
   "outputs": [],
   "source": [
    "# but I can't change the values! \n",
    "# run this cell and see what happens.\n",
    "tup1[0] = 5"
   ]
  },
  {
   "cell_type": "markdown",
   "metadata": {},
   "source": [
    "---\n",
    "### Exercises\n",
    "---"
   ]
  },
  {
   "cell_type": "markdown",
   "metadata": {},
   "source": [
    "1. Assign list [4, 18, 22, 15] to a variable `list_a` and insert 2 at index 1. \n",
    "2. Append 5 to the list_a using the `append()` method \n",
    "\n",
    "    *(hint: see table above, run a cell with* `list_a.append?` *for help, or google python list append function)*\n",
    "3. Turn ‘Python is great!’ to a list.\n",
    "4. Sort the `list_a` from above in ascending order. \n",
    "\n",
    "    *(Hint: see table above, run a cell with* `list_a.sort?` *for help, or google python list append function)*\n",
    "5. **Challenge:** Create the following lists:\n",
    "\n",
    "    Address1 = [\"EAS2900Python3.92161Snee\"]\n",
    "    \n",
    "    location1 = [\"EAS2900\", \"Python3.9\", \"2161Snee\"]\n",
    " \n",
    "    Now, write print statments that will display the value `Snee` from Address1 and location1\n",
    "    \n",
    "    *Hint: You may want to use nested indexing! ex.* `list[1][3]`"
   ]
  },
  {
   "cell_type": "code",
   "execution_count": null,
   "metadata": {},
   "outputs": [],
   "source": [
    "# 1. \n"
   ]
  },
  {
   "cell_type": "code",
   "execution_count": null,
   "metadata": {},
   "outputs": [],
   "source": [
    "# 2. \n"
   ]
  },
  {
   "cell_type": "code",
   "execution_count": null,
   "metadata": {},
   "outputs": [],
   "source": [
    "# 3.\n"
   ]
  },
  {
   "cell_type": "code",
   "execution_count": null,
   "metadata": {},
   "outputs": [],
   "source": [
    "# 4.\n"
   ]
  },
  {
   "cell_type": "code",
   "execution_count": null,
   "metadata": {},
   "outputs": [],
   "source": [
    "# 5. \n",
    "Address1 = [\"EAS2900Python3.92161Snee\"]\n",
    "location1 = [\"EAS2900\", \"Python3.9\", \"2161Snee\"]\n",
    "\n"
   ]
  },
  {
   "cell_type": "markdown",
   "metadata": {},
   "source": [
    "---\n",
    "### Additional Resources\n",
    "---"
   ]
  },
  {
   "cell_type": "markdown",
   "metadata": {},
   "source": [
    "[Python Numerical Methods - Data Structures - Lists](https://pythonnumericalmethods.berkeley.edu/notebooks/chapter02.03-Data-Structure-Lists.html)\n",
    "\n",
    "[Python Numerical Methods - Data Structures - Tuples](https://pythonnumericalmethods.berkeley.edu/notebooks/chapter02.04-Data-Structure-Tuples.html)\n",
    "\n",
    "[Python Lists - w3schools](https://www.w3schools.com/python/python_lists.asp)\n",
    "\n",
    "[Python Tuples - w3schools](https://www.w3schools.com/python/python_tuples.asp)\n",
    "\n",
    "[Python List Exercises with Solutions](https://pynative.com/python-list-exercise-with-solutions/)"
   ]
  }
 ],
 "metadata": {
  "kernelspec": {
   "display_name": "Python nvas311",
   "language": "python",
   "name": "nvas311"
  },
  "language_info": {
   "codemirror_mode": {
    "name": "ipython",
    "version": 3
   },
   "file_extension": ".py",
   "mimetype": "text/x-python",
   "name": "python",
   "nbconvert_exporter": "python",
   "pygments_lexer": "ipython3",
   "version": "3.8.2"
  }
 },
 "nbformat": 4,
 "nbformat_minor": 2
}
