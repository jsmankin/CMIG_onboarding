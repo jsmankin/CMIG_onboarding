{
 "cells": [
  {
   "cell_type": "markdown",
   "metadata": {},
   "source": [
    "# **CMIG - Python Tutorials**"
   ]
  },
  {
   "cell_type": "markdown",
   "metadata": {},
   "source": [
    "*The idea of this notebook is for you to read through the text and execute each cell as you go along, filling in commands/blocks of code as necessary. This is intended for people with little to no programming / python experience. If this is review, feel free to skim through it.*  "
   ]
  },
  {
   "cell_type": "markdown",
   "metadata": {},
   "source": [
    "# Programming: Functions"
   ]
  },
  {
   "cell_type": "markdown",
   "metadata": {},
   "source": [
    "OUTLINE:\n",
    "- Functions\n",
    "    - Declaring Functions\n",
    "    - Scope of Variables in Functions\n",
    "- Exercises\n",
    "- Additional resources"
   ]
  },
  {
   "cell_type": "markdown",
   "metadata": {},
   "source": [
    "---\n",
    "### Functions\n",
    "---"
   ]
  },
  {
   "cell_type": "markdown",
   "metadata": {},
   "source": [
    "Thus far, we have been using functions that are built in to Python or provided in modules such as `math` and `numpy`. However, we may want to write our own functions."
   ]
  },
  {
   "cell_type": "markdown",
   "metadata": {},
   "source": [
    "User-defined functions are useful for calculations that are being repeated many times in a given notebook. Once you've defined a function, you can call it throughout the notebook and it will always do the same calculations."
   ]
  },
  {
   "cell_type": "markdown",
   "metadata": {},
   "source": [
    "#### Declaring Functions"
   ]
  },
  {
   "cell_type": "markdown",
   "metadata": {},
   "source": [
    "A function can be specified in several ways. Here we will introduce the most common way to define a function which can be specified using the keyword `def`, as showing in the following:"
   ]
  },
  {
   "cell_type": "markdown",
   "metadata": {},
   "source": [
    "```python\n",
    "def function_name(argument_1, argument_2, ...):\n",
    "    '''\n",
    "    Descriptive String\n",
    "    '''\n",
    "    # comments about the statements\n",
    "    function_statements \n",
    "    \n",
    "    return output_parameters (optional)\n",
    "\n",
    "```"
   ]
  },
  {
   "cell_type": "markdown",
   "metadata": {},
   "source": [
    "In order to define a Python function, you need the following two components:\n",
    "\n",
    "1. **Function header:** A function header starts with the keyword `def`, followed by a pair of parentheses with the input arguments inside, and ends with a colon (`:`)\n",
    "    - Remember, the *arguments* are the values that you \"send\" to a function. \n",
    "\n",
    "2. **Function Body:** An indented block to indicate the main body of the function. It consists 3 parts:\n",
    "\n",
    "    - Descriptive string: Always include a description of what your function does and what input and output variables it includes. This descriptor is called a 'docstring', which is effectively a multi-line block of commented code. Instead of commenting out every individual line, triple quotes can be used to mark the beginning and end of such a block of text.\n",
    "\n",
    "    - Function statements: These are the step by step instructions (code) the function will execute when we call the function.\n",
    "\n",
    "    - Return statements: A function could return some values after the function is called, but this is optional, we could skip it. Any data type can be returned, even another function!"
   ]
  },
  {
   "cell_type": "markdown",
   "metadata": {},
   "source": [
    "For example, let's define a function that converts temperature from Fahrenheit to Celsius below:"
   ]
  },
  {
   "cell_type": "code",
   "execution_count": null,
   "metadata": {},
   "outputs": [],
   "source": [
    "def degFtoC(a): # 'a' is a temporary variable name that is then used in the function\n",
    "    \"\"\"\n",
    "    Takes data in degrees Fahrenheit and converts them to degrees Celsius\n",
    "    :param numpy.array a: Input data\n",
    "    :return numpy.array degC: Numpy array with converted data\n",
    "    \"\"\"\n",
    "    \n",
    "    degC = (5/9) * (a - 32) # calculation that the function performs\n",
    "    \n",
    "    return degC # which variable to return back"
   ]
  },
  {
   "cell_type": "markdown",
   "metadata": {},
   "source": [
    "... and let's try calling the function"
   ]
  },
  {
   "cell_type": "code",
   "execution_count": null,
   "metadata": {},
   "outputs": [],
   "source": [
    "tempF = 55\n",
    "\n",
    "tempC = degFtoC(tempF) # parse output of function into new variable\n",
    "\n",
    "print(tempC) # print the new variable\n",
    "type(tempC) # check its type "
   ]
  },
  {
   "cell_type": "markdown",
   "metadata": {},
   "source": [
    "We could also pass an entire numpy array to a function and have the operation performed to each element:"
   ]
  },
  {
   "cell_type": "code",
   "execution_count": null,
   "metadata": {},
   "outputs": [],
   "source": [
    "import numpy as np"
   ]
  },
  {
   "cell_type": "code",
   "execution_count": null,
   "metadata": {},
   "outputs": [],
   "source": [
    "tempF_arr = np.array([35, 68, 29, 84, 85, 82, 91])\n",
    "\n",
    "tempC_arr = degFtoC(tempF_arr)\n",
    "tempC_arr"
   ]
  },
  {
   "cell_type": "markdown",
   "metadata": {},
   "source": [
    "Example of function that takes multiple arguments and returns multiple values:"
   ]
  },
  {
   "cell_type": "code",
   "execution_count": null,
   "metadata": {},
   "outputs": [],
   "source": [
    "def degFtoCandK(a, b): # a and b are temporary variable names that are then used in the function\n",
    "    \"\"\"\n",
    "    Takes data in degrees Fahrenheit and converts them to degrees Celsius and Kelvin\n",
    "    :param numpy.array a: Input data\n",
    "    :param numpy.array b: Input data\n",
    "    :return numpy.array degC: Numpy array with converted data in degrees C\n",
    "    :return numpy.array K: Numpy array with converted data in degrees K\n",
    "    \"\"\" \n",
    "    \n",
    "    degC = (5/9) * (a - 32) # 1st calculation that function performs\n",
    "    \n",
    "    K = degC + b # 2nd calculation that function performs\n",
    "    \n",
    "    return degC, K # which variables to return back"
   ]
  },
  {
   "cell_type": "code",
   "execution_count": null,
   "metadata": {},
   "outputs": [],
   "source": [
    "tempCandK = degFtoCandK(tempF, 273.15) # parse output from function into *one* new variable\n",
    "\n",
    "print(tempCandK)\n",
    "print(type(tempCandK))"
   ]
  },
  {
   "cell_type": "markdown",
   "metadata": {},
   "source": [
    "This function returned a tuple. We could convert 'tuple' to 'numpy array' with `np.asarray`:"
   ]
  },
  {
   "cell_type": "code",
   "execution_count": null,
   "metadata": {},
   "outputs": [],
   "source": [
    "tempCandK = np.asarray(tempCandK)"
   ]
  },
  {
   "cell_type": "markdown",
   "metadata": {},
   "source": [
    "Or, just parse the output from our function into two separate variables. "
   ]
  },
  {
   "cell_type": "code",
   "execution_count": null,
   "metadata": {},
   "outputs": [],
   "source": [
    "tempC, K = degFtoCandK(tempF, 273.15) # simply separate the two variables you want to create \n",
    "                                      # with a comma"
   ]
  },
  {
   "cell_type": "markdown",
   "metadata": {},
   "source": [
    "#### Scope of Variables in Functions"
   ]
  },
  {
   "cell_type": "markdown",
   "metadata": {},
   "source": [
    "Any variables/varnames created within a function are ***local*** to that function. This means that they do not carry over to the rest of your notebook. The only values that will be \"saved\" are the ones that you return at the end of your function."
   ]
  },
  {
   "cell_type": "markdown",
   "metadata": {},
   "source": [
    "##### **TRY IT:** \n",
    "If you consider the below function:"
   ]
  },
  {
   "cell_type": "code",
   "execution_count": null,
   "metadata": {},
   "outputs": [],
   "source": [
    "def my_function(v):\n",
    "    \"\"\"\n",
    "    Multiplies arg. by 5 and adds 1.\n",
    "    \"\"\"\n",
    "    \n",
    "    h = (5*v) + 1\n",
    "    \n",
    "    return h"
   ]
  },
  {
   "cell_type": "markdown",
   "metadata": {},
   "source": [
    "and call it, storing the output in the var `result`,"
   ]
  },
  {
   "cell_type": "code",
   "execution_count": null,
   "metadata": {},
   "outputs": [],
   "source": [
    "result = my_function(10)"
   ]
  },
  {
   "cell_type": "markdown",
   "metadata": {},
   "source": [
    "What will happen if you try to print the values of `v`, `h`, and `result`?"
   ]
  },
  {
   "cell_type": "code",
   "execution_count": null,
   "metadata": {},
   "outputs": [],
   "source": [
    "# try printing them here\n"
   ]
  },
  {
   "cell_type": "markdown",
   "metadata": {},
   "source": [
    "*You will run into NameErrors because v and h are not defined outside of the function (they do not carry over).*"
   ]
  },
  {
   "cell_type": "markdown",
   "metadata": {},
   "source": [
    "---\n",
    "### Exercises\n",
    "---"
   ]
  },
  {
   "cell_type": "markdown",
   "metadata": {},
   "source": [
    "1)\n",
    "Consider the function below:\n",
    "\n",
    "```python\n",
    "def print_name(name='Timmy'):\n",
    "    print('My name is %s' %name)\n",
    "```\n",
    "- What happens if you run the function with no arguments?\n",
    "- What happens if you supply the argument 'Fred'?\n",
    "- *this is an example of setting a default argument for a function. If no argument is provided by the user, the function runs using the value defined in the function definition.*"
   ]
  },
  {
   "cell_type": "code",
   "execution_count": null,
   "metadata": {},
   "outputs": [],
   "source": [
    "# define the function\n",
    "def print_name(name='Timmy'):\n",
    "    print('My name is %s' %name)"
   ]
  },
  {
   "cell_type": "code",
   "execution_count": null,
   "metadata": {},
   "outputs": [],
   "source": [
    "# call function empty\n"
   ]
  },
  {
   "cell_type": "code",
   "execution_count": null,
   "metadata": {},
   "outputs": [],
   "source": [
    "# add arg 'Fred'\n"
   ]
  },
  {
   "cell_type": "markdown",
   "metadata": {},
   "source": [
    "2) Write a function `g_to_oz` that converts grams to ounces. (1 oz ~ 28.35 g). It should accept an argument in grams (use varname `g`), and return a value in oz. The beginning of the function is written for you below:"
   ]
  },
  {
   "cell_type": "code",
   "execution_count": null,
   "metadata": {},
   "outputs": [],
   "source": [
    "def g_to_oz(g):\n",
    "    \n",
    "    # write your function code here"
   ]
  },
  {
   "cell_type": "markdown",
   "metadata": {},
   "source": [
    "Then, run the following code to test your function to make sure it returns the following values (in comments)."
   ]
  },
  {
   "cell_type": "code",
   "execution_count": null,
   "metadata": {},
   "outputs": [],
   "source": [
    "###### o = 0.0353\n",
    "o = g_to_oz(1)\n",
    "print(o)"
   ]
  },
  {
   "cell_type": "code",
   "execution_count": null,
   "metadata": {},
   "outputs": [],
   "source": [
    "###### o = 1.1287\n",
    "o = g_to_oz(32)\n",
    "print(o)"
   ]
  },
  {
   "cell_type": "code",
   "execution_count": null,
   "metadata": {},
   "outputs": [],
   "source": [
    "###### o = 0.2469\n",
    "o = g_to_oz(7)\n",
    "print(o)"
   ]
  },
  {
   "cell_type": "markdown",
   "metadata": {},
   "source": [
    "3) Use your knowledge of if-statements and functions to implement the following function. Write a function `my_tip_calc(bill, party)`, where `bill` is the total cost of a meal and `party` is the number of people in the group. The tip should be calculated as 15% for a party strictly less than six people, 18% for a party strictly less than eight, 20% for a party less than 11, and 25% for a party 11 or more."
   ]
  },
  {
   "cell_type": "code",
   "execution_count": null,
   "metadata": {},
   "outputs": [],
   "source": [
    "def my_tip_calc(bill, party):\n",
    "    # write your function code here\n",
    "    \n",
    "    return tips"
   ]
  },
  {
   "cell_type": "markdown",
   "metadata": {},
   "source": [
    "Then, run the following code to test your function to make sure it returns the following values (in comments)."
   ]
  },
  {
   "cell_type": "code",
   "execution_count": null,
   "metadata": {},
   "outputs": [],
   "source": [
    "# t = 16.3935\n",
    "t = my_tip_calc(109.29,3) \n",
    "print(t)"
   ]
  },
  {
   "cell_type": "code",
   "execution_count": null,
   "metadata": {},
   "outputs": [],
   "source": [
    "# t = 21.8580\n",
    "t = my_tip_calc(109.29,9)\n",
    "print(t)"
   ]
  },
  {
   "cell_type": "code",
   "execution_count": null,
   "metadata": {},
   "outputs": [],
   "source": [
    "# t = 27.3225\n",
    "t = my_tip_calc(109.29,12)\n",
    "print(t)"
   ]
  },
  {
   "cell_type": "markdown",
   "metadata": {},
   "source": [
    "---\n",
    "### Additional Resources\n",
    "---"
   ]
  },
  {
   "cell_type": "markdown",
   "metadata": {},
   "source": [
    "[Python Numerical Methods - Function Basics](https://pythonnumericalmethods.berkeley.edu/notebooks/chapter03.01-Function-Basics.html)\n",
    "\n",
    "[Python Functions - w3schools](https://www.w3schools.com/python/python_functions.asp)\n",
    "\n",
    "[Python Functions Exercises](https://pynative.com/python-functions-exercise-with-solutions/)"
   ]
  }
 ],
 "metadata": {
  "kernelspec": {
   "display_name": "Python nvas311",
   "language": "python",
   "name": "nvas311"
  },
  "language_info": {
   "codemirror_mode": {
    "name": "ipython",
    "version": 3
   },
   "file_extension": ".py",
   "mimetype": "text/x-python",
   "name": "python",
   "nbconvert_exporter": "python",
   "pygments_lexer": "ipython3",
   "version": "3.8.2"
  }
 },
 "nbformat": 4,
 "nbformat_minor": 2
}
