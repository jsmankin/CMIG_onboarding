{
 "cells": [
  {
   "cell_type": "markdown",
   "metadata": {},
   "source": [
    "# **CMIG - Python Tutorials**"
   ]
  },
  {
   "cell_type": "markdown",
   "metadata": {},
   "source": [
    "*The idea of this notebook is for you to read through the text and execute each cell as you go along, filling in commands/blocks of code as necessary. This is intended for people with little to no programming / python experience. If this is review, feel free to skim through it.*  "
   ]
  },
  {
   "cell_type": "markdown",
   "metadata": {},
   "source": [
    "# Programming: Logical Expressions and Operators"
   ]
  },
  {
   "cell_type": "markdown",
   "metadata": {},
   "source": [
    "OUTLINE:\n",
    "- Logical Expressions\n",
    "- Logical Operators\n",
    "- Exercises\n",
    "- Additional resources"
   ]
  },
  {
   "cell_type": "markdown",
   "metadata": {},
   "source": [
    "---\n",
    "### Logical Expressions and Operators\n",
    "---"
   ]
  },
  {
   "cell_type": "markdown",
   "metadata": {},
   "source": [
    "### Logical Expressions"
   ]
  },
  {
   "cell_type": "markdown",
   "metadata": {},
   "source": [
    "A **logical expression** is a statement that can either be true or false. For example, $a<b$ is a logical expression. It could be true or false depending on what values of $a$ and $b$ are given. Note that this differs from a mathematical expression which denotes a truth statement. In the previous example, the mathematical expression $a<b$ means that $a$ is less than $b$, and values of $a$ and $b$ where $a \\geq b$ are not permitted."
   ]
  },
  {
   "cell_type": "markdown",
   "metadata": {},
   "source": [
    "In Python, a logical expression that is true will compute to the value `True`. a false expression will compute to the value `False`. This is a new data type called **boolean**, which has the built in True and False values.\n",
    "\n",
    "True is equivalent to 1, and False is equivalent to 0. However, Python will take any number not equal to 0 to mean True when used in a logical operation. "
   ]
  },
  {
   "cell_type": "markdown",
   "metadata": {},
   "source": [
    "**Comparison operators** compare the values of two numbers/expressions, and they are used to build logical expressons. A table of these operators can be seen below, using the example that $a=4$ and $b=2$."
   ]
  },
  {
   "cell_type": "markdown",
   "metadata": {},
   "source": [
    "| Operator | Description | Example | Result |\n",
    "| -- | -- | -- | -- |\n",
    "| > | greater than | a > b | True |\n",
    "| >= | greater than or equal | a >= b | True |\n",
    "| < | less than | a < b | False |\n",
    "| <= | less than or equal | a <= b | False |\n",
    "| != | not equal | a != b | True |\n",
    "| == | equal | a == b | False |"
   ]
  },
  {
   "cell_type": "markdown",
   "metadata": {},
   "source": [
    "Examples in code:"
   ]
  },
  {
   "cell_type": "code",
   "execution_count": null,
   "metadata": {},
   "outputs": [],
   "source": [
    "2 > 3"
   ]
  },
  {
   "cell_type": "code",
   "execution_count": null,
   "metadata": {},
   "outputs": [],
   "source": [
    "13 == 387"
   ]
  },
  {
   "cell_type": "code",
   "execution_count": null,
   "metadata": {},
   "outputs": [],
   "source": [
    "import numpy as np\n",
    "\n",
    "arr1 = np.array([1, 2, 3, 4, 5, 6])\n",
    "arr1 >= 4"
   ]
  },
  {
   "cell_type": "markdown",
   "metadata": {},
   "source": [
    "### Logical Operators"
   ]
  },
  {
   "cell_type": "markdown",
   "metadata": {},
   "source": [
    "A logical operator is an operation between two (or more) logical *expressions*, which compares and evaluates the results of said expressions. For example, say we have 2 logical expressions, $P$ and $Q$:"
   ]
  },
  {
   "cell_type": "markdown",
   "metadata": {},
   "source": [
    "| Operator | Description | Example | Result |\n",
    "| -- | -- | -- | -- |\n",
    "| and | both true | P and Q | True if both P and Q are True, otherwise False |\n",
    "| or | either true | P or Q | True if either P or Q are True, otherwise False |\n",
    "| not | not true | not | True if P is False, False if P is True |"
   ]
  },
  {
   "cell_type": "markdown",
   "metadata": {},
   "source": [
    "Let's compare 2 expressions we know are True using `and`:"
   ]
  },
  {
   "cell_type": "code",
   "execution_count": null,
   "metadata": {},
   "outputs": [],
   "source": [
    "1 and 1"
   ]
  },
  {
   "cell_type": "code",
   "execution_count": null,
   "metadata": {},
   "outputs": [],
   "source": [
    "# more complex\n",
    "(3 > 1) and (40==40)"
   ]
  },
  {
   "cell_type": "markdown",
   "metadata": {},
   "source": [
    "But, if we change one of those statements to be false..."
   ]
  },
  {
   "cell_type": "code",
   "execution_count": null,
   "metadata": {},
   "outputs": [],
   "source": [
    "# and will return False...\n",
    "(3 < 1) and (40==40)"
   ]
  },
  {
   "cell_type": "code",
   "execution_count": null,
   "metadata": {},
   "outputs": [],
   "source": [
    "# ... but or will still return True.\n",
    "(3 < 1) or (40==40)"
   ]
  },
  {
   "cell_type": "code",
   "execution_count": null,
   "metadata": {},
   "outputs": [],
   "source": [
    "# here is not.\n",
    "not (3 < 1)"
   ]
  },
  {
   "cell_type": "markdown",
   "metadata": {},
   "source": [
    "---\n",
    "### Exercises\n",
    "---"
   ]
  },
  {
   "cell_type": "markdown",
   "metadata": {},
   "source": [
    "1. Check if the strings 'Hello' and \"Hello\" are equal to each other. Are they?\n",
    "2. Do the following logical and comparison operations at the Python command prompt. You may assume that P and Q are logical expressions.\n",
    "    - a. For P = 1 and Q = 1; Compute $NOT(P) \\text{ AND } NOT(Q)$\n",
    "    - b. For a = 10 and b = 25; Compute $(a < b) \\text{ AND } (a == b)$\n",
    "3. **Challenge:** consider the array: \n",
    "\n",
    "`arr_3 = np.array([4, 8, 5, 2, 0, -1, 48, 83, 7, 39])`\n",
    "\n",
    "using just one lines of code, print just the values of arr_3 that are greater than 25. *Hint: you can index np arrays using arrays of booleans or logical expressions!*"
   ]
  },
  {
   "cell_type": "code",
   "execution_count": null,
   "metadata": {},
   "outputs": [],
   "source": [
    "# 1.\n"
   ]
  },
  {
   "cell_type": "code",
   "execution_count": null,
   "metadata": {},
   "outputs": [],
   "source": [
    "# 2. a. \n"
   ]
  },
  {
   "cell_type": "code",
   "execution_count": null,
   "metadata": {},
   "outputs": [],
   "source": [
    "# 2. b. \n"
   ]
  },
  {
   "cell_type": "code",
   "execution_count": null,
   "metadata": {},
   "outputs": [],
   "source": [
    "# 3. \n"
   ]
  },
  {
   "cell_type": "markdown",
   "metadata": {},
   "source": [
    "---\n",
    "### Additional Resources\n",
    "---"
   ]
  },
  {
   "cell_type": "markdown",
   "metadata": {},
   "source": [
    "[Python Numerical Methods - Logical Expressions and Operators](https://pythonnumericalmethods.berkeley.edu/notebooks/chapter01.05-Logial-Expressions-and-Operators.html)\n",
    "\n",
    "[Python Booleans - w3schools](https://www.w3schools.com/python/python_booleans.asp)\n",
    "\n",
    "[Python Operators - w3schools](https://www.w3schools.com/python/python_operators.asp)"
   ]
  }
 ],
 "metadata": {
  "kernelspec": {
   "display_name": "Python nvas311",
   "language": "python",
   "name": "nvas311"
  },
  "language_info": {
   "codemirror_mode": {
    "name": "ipython",
    "version": 3
   },
   "file_extension": ".py",
   "mimetype": "text/x-python",
   "name": "python",
   "nbconvert_exporter": "python",
   "pygments_lexer": "ipython3",
   "version": "3.8.2"
  }
 },
 "nbformat": 4,
 "nbformat_minor": 2
}
